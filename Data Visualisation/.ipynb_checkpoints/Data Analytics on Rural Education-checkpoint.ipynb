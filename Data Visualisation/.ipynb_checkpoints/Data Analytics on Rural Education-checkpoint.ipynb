{
 "cells": [
  {
   "cell_type": "code",
   "execution_count": 3,
   "metadata": {},
   "outputs": [
    {
     "name": "stdout",
     "output_type": "stream",
     "text": [
      "Hello World\n"
     ]
    }
   ],
   "source": [
    "print(\"Hello World\");"
   ]
  },
  {
   "cell_type": "code",
   "execution_count": 4,
   "metadata": {},
   "outputs": [],
   "source": [
    "word = 'python';"
   ]
  },
  {
   "cell_type": "code",
   "execution_count": 5,
   "metadata": {},
   "outputs": [],
   "source": [
    "word[0];"
   ]
  },
  {
   "cell_type": "code",
   "execution_count": 6,
   "metadata": {},
   "outputs": [
    {
     "data": {
      "text/plain": [
       "'t'"
      ]
     },
     "execution_count": 6,
     "metadata": {},
     "output_type": "execute_result"
    }
   ],
   "source": [
    "word[2]\n"
   ]
  },
  {
   "cell_type": "code",
   "execution_count": 7,
   "metadata": {},
   "outputs": [],
   "source": [
    "word[0];"
   ]
  },
  {
   "cell_type": "code",
   "execution_count": 8,
   "metadata": {},
   "outputs": [
    {
     "data": {
      "text/plain": [
       "'p'"
      ]
     },
     "execution_count": 8,
     "metadata": {},
     "output_type": "execute_result"
    }
   ],
   "source": [
    "word[0]"
   ]
  },
  {
   "cell_type": "code",
   "execution_count": 9,
   "metadata": {},
   "outputs": [],
   "source": [
    "word[0];"
   ]
  },
  {
   "cell_type": "code",
   "execution_count": 10,
   "metadata": {},
   "outputs": [],
   "source": [
    "word[2];"
   ]
  },
  {
   "cell_type": "code",
   "execution_count": 1,
   "metadata": {},
   "outputs": [],
   "source": [
    "list = [1,2,3,5,5]"
   ]
  },
  {
   "cell_type": "code",
   "execution_count": 2,
   "metadata": {},
   "outputs": [
    {
     "name": "stdout",
     "output_type": "stream",
     "text": [
      "[1, 2, 3, 5, 5]\n"
     ]
    }
   ],
   "source": [
    "print(list)"
   ]
  },
  {
   "cell_type": "code",
   "execution_count": 3,
   "metadata": {},
   "outputs": [
    {
     "name": "stdout",
     "output_type": "stream",
     "text": [
      "[1, 2, 3, 5, 5]\n"
     ]
    }
   ],
   "source": [
    "print(list);"
   ]
  },
  {
   "cell_type": "code",
   "execution_count": 4,
   "metadata": {},
   "outputs": [
    {
     "data": {
      "text/plain": [
       "[1, 2, 3, 5, 5]"
      ]
     },
     "execution_count": 4,
     "metadata": {},
     "output_type": "execute_result"
    }
   ],
   "source": [
    "list"
   ]
  },
  {
   "cell_type": "code",
   "execution_count": 5,
   "metadata": {},
   "outputs": [
    {
     "data": {
      "text/plain": [
       "1"
      ]
     },
     "execution_count": 5,
     "metadata": {},
     "output_type": "execute_result"
    }
   ],
   "source": [
    "list[0]"
   ]
  },
  {
   "cell_type": "code",
   "execution_count": 6,
   "metadata": {},
   "outputs": [],
   "source": [
    "list[1];"
   ]
  },
  {
   "cell_type": "code",
   "execution_count": 7,
   "metadata": {},
   "outputs": [],
   "source": [
    "list[1];"
   ]
  },
  {
   "cell_type": "code",
   "execution_count": 8,
   "metadata": {},
   "outputs": [
    {
     "data": {
      "text/plain": [
       "5"
      ]
     },
     "execution_count": 8,
     "metadata": {},
     "output_type": "execute_result"
    }
   ],
   "source": [
    "list[-1]"
   ]
  },
  {
   "cell_type": "code",
   "execution_count": 9,
   "metadata": {},
   "outputs": [
    {
     "data": {
      "text/plain": [
       "3"
      ]
     },
     "execution_count": 9,
     "metadata": {},
     "output_type": "execute_result"
    }
   ],
   "source": [
    "list[-3]"
   ]
  },
  {
   "cell_type": "code",
   "execution_count": 10,
   "metadata": {},
   "outputs": [
    {
     "data": {
      "text/plain": [
       "[3, 5, 5]"
      ]
     },
     "execution_count": 10,
     "metadata": {},
     "output_type": "execute_result"
    }
   ],
   "source": [
    "list[-3:]"
   ]
  },
  {
   "cell_type": "code",
   "execution_count": 11,
   "metadata": {},
   "outputs": [
    {
     "data": {
      "text/plain": [
       "[1, 2, 3, 5, 5, 7, 8, 9, 0]"
      ]
     },
     "execution_count": 11,
     "metadata": {},
     "output_type": "execute_result"
    }
   ],
   "source": [
    "list + [7,8,9,0]"
   ]
  },
  {
   "cell_type": "code",
   "execution_count": 12,
   "metadata": {},
   "outputs": [],
   "source": [
    "list[2] = 56"
   ]
  },
  {
   "cell_type": "code",
   "execution_count": 13,
   "metadata": {},
   "outputs": [
    {
     "data": {
      "text/plain": [
       "[1, 2, 56, 5, 5]"
      ]
     },
     "execution_count": 13,
     "metadata": {},
     "output_type": "execute_result"
    }
   ],
   "source": [
    "list"
   ]
  },
  {
   "cell_type": "code",
   "execution_count": 14,
   "metadata": {},
   "outputs": [],
   "source": [
    "list = list + [56,34,89,23]"
   ]
  },
  {
   "cell_type": "code",
   "execution_count": 15,
   "metadata": {},
   "outputs": [
    {
     "data": {
      "text/plain": [
       "[1, 2, 56, 5, 5, 56, 34, 89, 23]"
      ]
     },
     "execution_count": 15,
     "metadata": {},
     "output_type": "execute_result"
    }
   ],
   "source": [
    "list"
   ]
  },
  {
   "cell_type": "code",
   "execution_count": 16,
   "metadata": {},
   "outputs": [],
   "source": [
    "list.append(1234)"
   ]
  },
  {
   "cell_type": "code",
   "execution_count": 17,
   "metadata": {},
   "outputs": [],
   "source": [
    "list[1:3] = []"
   ]
  },
  {
   "cell_type": "code",
   "execution_count": 18,
   "metadata": {},
   "outputs": [
    {
     "data": {
      "text/plain": [
       "[1, 5, 5, 56, 34, 89, 23, 1234]"
      ]
     },
     "execution_count": 18,
     "metadata": {},
     "output_type": "execute_result"
    }
   ],
   "source": [
    "list"
   ]
  },
  {
   "cell_type": "code",
   "execution_count": 19,
   "metadata": {},
   "outputs": [
    {
     "data": {
      "text/plain": [
       "[5, 5, 56, 34]"
      ]
     },
     "execution_count": 19,
     "metadata": {},
     "output_type": "execute_result"
    }
   ],
   "source": [
    "list[1:5]"
   ]
  },
  {
   "cell_type": "code",
   "execution_count": 20,
   "metadata": {},
   "outputs": [],
   "source": [
    "list[1:5] = []"
   ]
  },
  {
   "cell_type": "code",
   "execution_count": 21,
   "metadata": {},
   "outputs": [
    {
     "data": {
      "text/plain": [
       "[1, 89, 23, 1234]"
      ]
     },
     "execution_count": 21,
     "metadata": {},
     "output_type": "execute_result"
    }
   ],
   "source": [
    "list"
   ]
  },
  {
   "cell_type": "code",
   "execution_count": 22,
   "metadata": {},
   "outputs": [
    {
     "data": {
      "text/plain": [
       "4"
      ]
     },
     "execution_count": 22,
     "metadata": {},
     "output_type": "execute_result"
    }
   ],
   "source": [
    "len(list)"
   ]
  },
  {
   "cell_type": "code",
   "execution_count": 23,
   "metadata": {},
   "outputs": [
    {
     "name": "stdout",
     "output_type": "stream",
     "text": [
      "0\n",
      "1\n",
      "1\n",
      "2\n",
      "3\n",
      "5\n",
      "8\n"
     ]
    }
   ],
   "source": [
    "a,b = 0,1\n",
    "while a < 10:\n",
    "    print(a)\n",
    "    a,b = b, a + b"
   ]
  },
  {
   "cell_type": "code",
   "execution_count": 24,
   "metadata": {},
   "outputs": [
    {
     "ename": "TypeError",
     "evalue": "'int' object is not subscriptable",
     "output_type": "error",
     "traceback": [
      "\u001b[1;31m---------------------------------------------------------------------------\u001b[0m",
      "\u001b[1;31mTypeError\u001b[0m                                 Traceback (most recent call last)",
      "\u001b[1;32m<ipython-input-24-feb880714c39>\u001b[0m in \u001b[0;36m<module>\u001b[1;34m\u001b[0m\n\u001b[1;32m----> 1\u001b[1;33m \u001b[0mlist\u001b[0m\u001b[1;33m[\u001b[0m\u001b[1;36m0\u001b[0m\u001b[1;33m]\u001b[0m\u001b[1;33m[\u001b[0m\u001b[1;36m1\u001b[0m\u001b[1;33m]\u001b[0m\u001b[1;33m\u001b[0m\u001b[1;33m\u001b[0m\u001b[0m\n\u001b[0m",
      "\u001b[1;31mTypeError\u001b[0m: 'int' object is not subscriptable"
     ]
    }
   ],
   "source": [
    "list[0][1]"
   ]
  },
  {
   "cell_type": "code",
   "execution_count": 33,
   "metadata": {},
   "outputs": [
    {
     "name": "stdout",
     "output_type": "stream",
     "text": [
      "0\n",
      "1\n",
      "1\n",
      "2\n",
      "3\n",
      "5\n",
      "8\n",
      "13\n",
      "21\n",
      "34\n"
     ]
    }
   ],
   "source": [
    "a,b = 0,1\n",
    "for i in range(a,10):\n",
    "    print(a)\n",
    "    a, b = b, a + b"
   ]
  },
  {
   "cell_type": "code",
   "execution_count": 31,
   "metadata": {},
   "outputs": [
    {
     "name": "stdout",
     "output_type": "stream",
     "text": [
      "0,1,1,2,3,5,8,13,21,34,55,89,144,233,377,610,987,"
     ]
    }
   ],
   "source": [
    "a, b = 0,1\n",
    "while a < 1000:\n",
    "    print(a, end = ',')\n",
    "    a, b = b, a+b"
   ]
  },
  {
   "cell_type": "code",
   "execution_count": 39,
   "metadata": {},
   "outputs": [
    {
     "name": "stdout",
     "output_type": "stream",
     "text": [
      "0,1,1,2,3,5,8,13,21,34,55,89,144,233,377,610,987,"
     ]
    }
   ],
   "source": [
    "a, b = 0,1\n",
    "while a < 1000:\n",
    "    print(a, end = ',')\n",
    "    a, b = b, a+b"
   ]
  },
  {
   "cell_type": "code",
   "execution_count": 40,
   "metadata": {},
   "outputs": [
    {
     "name": "stdout",
     "output_type": "stream",
     "text": [
      "Enter the value: 6767\n",
      "Positive NO\n"
     ]
    }
   ],
   "source": [
    "n = int(input(\"Enter the value: \"))\n",
    "if n < 0:\n",
    "    print(\"Negative changed to 0\")\n",
    "if n > 0:\n",
    "    print(\"Positive NO\")\n",
    "if n == 0:\n",
    "    print(\"Zero\")"
   ]
  },
  {
   "cell_type": "code",
   "execution_count": 41,
   "metadata": {},
   "outputs": [
    {
     "name": "stdout",
     "output_type": "stream",
     "text": [
      "harsh 5\n",
      "rajan 5\n",
      "raghav 6\n"
     ]
    }
   ],
   "source": [
    "list = ['harsh','rajan','raghav']\n",
    "for i in list:\n",
    "    print(i, len(i))"
   ]
  },
  {
   "cell_type": "code",
   "execution_count": 47,
   "metadata": {},
   "outputs": [
    {
     "name": "stdout",
     "output_type": "stream",
     "text": [
      "2 is a prime number\n",
      "3 is a prime number\n",
      "4 equals 2 * 2\n",
      "5 is a prime number\n",
      "6 equals 2 * 3\n",
      "7 is a prime number\n",
      "8 equals 2 * 4\n",
      "9 equals 3 * 3\n"
     ]
    }
   ],
   "source": [
    "for n in range(2, 10):\n",
    "         for x in range(2, n):\n",
    "           if n % x == 0:\n",
    "                 print(n, 'equals', x, '*', n//x)\n",
    "                 break\n",
    "         else:\n",
    "          # loop fell through without finding a factor\n",
    "             print(n, 'is a prime number')"
   ]
  },
  {
   "cell_type": "code",
   "execution_count": 46,
   "metadata": {},
   "outputs": [
    {
     "name": "stdout",
     "output_type": "stream",
     "text": [
      "Found an even number 2\n",
      "Found a number 3\n",
      "Found an even number 4\n",
      "Found a number 5\n",
      "Found an even number 6\n",
      "Found a number 7\n",
      "Found an even number 8\n",
      "Found a number 9\n"
     ]
    }
   ],
   "source": [
    "for num in range(2, 10):\n",
    "        if num % 2 == 0:\n",
    "             print(\"Found an even number\", num)\n",
    "             continue\n",
    "        print(\"Found a number\", num)"
   ]
  },
  {
   "cell_type": "code",
   "execution_count": 51,
   "metadata": {},
   "outputs": [
    {
     "name": "stdout",
     "output_type": "stream",
     "text": [
      "\n",
      "\n",
      "1 \n",
      "\n",
      "2 2 \n",
      "\n",
      "3 3 3 \n",
      "\n",
      "4 4 4 4 \n",
      "\n"
     ]
    }
   ],
   "source": [
    "for n in range(5):\n",
    "    for i in range(n):\n",
    "        print(n, end = \" \")\n",
    "    \n",
    "    print(\"\\n\")"
   ]
  },
  {
   "cell_type": "code",
   "execution_count": 1,
   "metadata": {},
   "outputs": [
    {
     "name": "stdout",
     "output_type": "stream",
     "text": [
      "1 \n",
      "\n",
      "1 2 \n",
      "\n",
      "1 2 3 \n",
      "\n",
      "1 2 3 4 \n",
      "\n"
     ]
    }
   ],
   "source": [
    "a = 5\n",
    "for i in range(1,a):\n",
    "    for j in range(1, i + 1):\n",
    "        print(j, end = \" \")\n",
    "    \n",
    "    print(\"\\n\")"
   ]
  },
  {
   "cell_type": "code",
   "execution_count": 5,
   "metadata": {},
   "outputs": [
    {
     "name": "stdout",
     "output_type": "stream",
     "text": [
      "0 1 1 2 3 5 8 13 21 34 55 89 144 233 377 610 987 1597 \n"
     ]
    }
   ],
   "source": [
    "def fib(n):\n",
    "    a,b = 0,1\n",
    "    while a < n:\n",
    "        print(a, end = ' ')\n",
    "        a, b = b, a + b\n",
    "    print()\n",
    "fib(2000);"
   ]
  },
  {
   "cell_type": "code",
   "execution_count": 8,
   "metadata": {},
   "outputs": [
    {
     "data": {
      "text/plain": [
       "[0, 1, 1, 2, 3, 5, 8, 13, 21, 34, 55, 89, 144, 233, 377, 610, 987, 1597]"
      ]
     },
     "execution_count": 8,
     "metadata": {},
     "output_type": "execute_result"
    }
   ],
   "source": [
    "def fib(n):\n",
    "    result = []\n",
    "    a,b = 0,1\n",
    "    while a < n:\n",
    "        result.append(a)\n",
    "        a, b = b, a + b\n",
    "    return result\n",
    "fibresult = fib(2000);\n",
    "fibresult"
   ]
  },
  {
   "cell_type": "code",
   "execution_count": 12,
   "metadata": {},
   "outputs": [
    {
     "name": "stdout",
     "output_type": "stream",
     "text": [
      "Do you want to quit?ghgjhgj\n",
      "Please try again!\n",
      "Do you want to quit?no\n"
     ]
    },
    {
     "data": {
      "text/plain": [
       "False"
      ]
     },
     "execution_count": 12,
     "metadata": {},
     "output_type": "execute_result"
    }
   ],
   "source": [
    "def ask_ok(prompt, retries=4, reminder='Please try again!'):\n",
    "    while True:\n",
    "        ok = input(prompt)\n",
    "        if ok in ('y', 'ye', 'yes'):\n",
    "            return True\n",
    "        if ok in ('n', 'no', 'nop', 'nope'):\n",
    "            return False\n",
    "        retries = retries - 1\n",
    "        if retries < 0:\n",
    "            raise ValueError('invalid user response')\n",
    "        print(reminder)\n",
    "ask_ok('Do you want to quit?')"
   ]
  },
  {
   "cell_type": "code",
   "execution_count": 17,
   "metadata": {},
   "outputs": [
    {
     "data": {
      "text/plain": [
       "44"
      ]
     },
     "execution_count": 17,
     "metadata": {},
     "output_type": "execute_result"
    }
   ],
   "source": [
    "def increament(n):\n",
    "    return lambda x: x + n\n",
    "f = increament(42);\n",
    "f(2)"
   ]
  },
  {
   "cell_type": "code",
   "execution_count": 24,
   "metadata": {},
   "outputs": [
    {
     "data": {
      "text/plain": [
       "'hsraH'"
      ]
     },
     "execution_count": 24,
     "metadata": {},
     "output_type": "execute_result"
    }
   ],
   "source": [
    "'Harsh'[::-1]"
   ]
  },
  {
   "cell_type": "code",
   "execution_count": 25,
   "metadata": {},
   "outputs": [],
   "source": [
    "fruits = ['orange', 'apple', 'pear', 'banana', 'kiwi', 'apple', 'banana']"
   ]
  },
  {
   "cell_type": "code",
   "execution_count": 26,
   "metadata": {},
   "outputs": [
    {
     "data": {
      "text/plain": [
       "2"
      ]
     },
     "execution_count": 26,
     "metadata": {},
     "output_type": "execute_result"
    }
   ],
   "source": [
    "fruits.count('apple')"
   ]
  },
  {
   "cell_type": "code",
   "execution_count": 27,
   "metadata": {},
   "outputs": [
    {
     "data": {
      "text/plain": [
       "2"
      ]
     },
     "execution_count": 27,
     "metadata": {},
     "output_type": "execute_result"
    }
   ],
   "source": [
    "fruits.index('pear')"
   ]
  },
  {
   "cell_type": "code",
   "execution_count": 30,
   "metadata": {},
   "outputs": [],
   "source": [
    "fruits.append('mango')"
   ]
  },
  {
   "cell_type": "code",
   "execution_count": 31,
   "metadata": {},
   "outputs": [
    {
     "data": {
      "text/plain": [
       "['orange',\n",
       " 'apple',\n",
       " 'pear',\n",
       " 'banana',\n",
       " 'kiwi',\n",
       " 'apple',\n",
       " 'banana',\n",
       " 'mango',\n",
       " 'mango',\n",
       " 'mango']"
      ]
     },
     "execution_count": 31,
     "metadata": {},
     "output_type": "execute_result"
    }
   ],
   "source": [
    "fruits"
   ]
  },
  {
   "cell_type": "code",
   "execution_count": 32,
   "metadata": {},
   "outputs": [],
   "source": [
    "fruits.reverse()"
   ]
  },
  {
   "cell_type": "code",
   "execution_count": 33,
   "metadata": {},
   "outputs": [
    {
     "data": {
      "text/plain": [
       "['mango',\n",
       " 'mango',\n",
       " 'mango',\n",
       " 'banana',\n",
       " 'apple',\n",
       " 'kiwi',\n",
       " 'banana',\n",
       " 'pear',\n",
       " 'apple',\n",
       " 'orange']"
      ]
     },
     "execution_count": 33,
     "metadata": {},
     "output_type": "execute_result"
    }
   ],
   "source": [
    "fruits"
   ]
  },
  {
   "cell_type": "code",
   "execution_count": 38,
   "metadata": {},
   "outputs": [
    {
     "data": {
      "text/plain": [
       "['apple',\n",
       " 'apple',\n",
       " 'banana',\n",
       " 'banana',\n",
       " 'kiwi',\n",
       " 'mango',\n",
       " 'mango',\n",
       " 'mango',\n",
       " 'orange']"
      ]
     },
     "execution_count": 38,
     "metadata": {},
     "output_type": "execute_result"
    }
   ],
   "source": [
    "fruits.sort()\n",
    "fruits"
   ]
  },
  {
   "cell_type": "code",
   "execution_count": 37,
   "metadata": {},
   "outputs": [
    {
     "data": {
      "text/plain": [
       "'pear'"
      ]
     },
     "execution_count": 37,
     "metadata": {},
     "output_type": "execute_result"
    }
   ],
   "source": [
    "fruits.pop()"
   ]
  },
  {
   "cell_type": "code",
   "execution_count": 39,
   "metadata": {},
   "outputs": [
    {
     "data": {
      "text/plain": [
       "'orange'"
      ]
     },
     "execution_count": 39,
     "metadata": {},
     "output_type": "execute_result"
    }
   ],
   "source": [
    "fruits.pop()"
   ]
  },
  {
   "cell_type": "code",
   "execution_count": 40,
   "metadata": {},
   "outputs": [
    {
     "data": {
      "text/plain": [
       "[0, 1, 4, 9, 16, 25, 36, 49, 64, 81]"
      ]
     },
     "execution_count": 40,
     "metadata": {},
     "output_type": "execute_result"
    }
   ],
   "source": [
    "squares = []\n",
    "for x in range(10):\n",
    "    squares.append(x**2)\n",
    "squares"
   ]
  },
  {
   "cell_type": "code",
   "execution_count": 42,
   "metadata": {},
   "outputs": [
    {
     "data": {
      "text/plain": [
       "[0, 1, 4, 9, 16, 25, 36, 49, 64, 81]"
      ]
     },
     "execution_count": 42,
     "metadata": {},
     "output_type": "execute_result"
    }
   ],
   "source": [
    "squares = []\n",
    "for x in range(10):\n",
    "    squares.append(x**2)\n",
    "squares = list(map(lambda x: x**2, range(10)))\n",
    "squares"
   ]
  },
  {
   "cell_type": "code",
   "execution_count": 43,
   "metadata": {},
   "outputs": [],
   "source": [
    "import math"
   ]
  },
  {
   "cell_type": "code",
   "execution_count": 45,
   "metadata": {},
   "outputs": [
    {
     "name": "stdout",
     "output_type": "stream",
     "text": [
      "3.141592653589793\n"
     ]
    }
   ],
   "source": [
    "from math import pi\n",
    "print(pi)"
   ]
  },
  {
   "cell_type": "code",
   "execution_count": 46,
   "metadata": {},
   "outputs": [],
   "source": [
    "import sys"
   ]
  },
  {
   "cell_type": "code",
   "execution_count": 47,
   "metadata": {},
   "outputs": [
    {
     "data": {
      "text/plain": [
       "['C:\\\\Users\\\\HP\\\\Desktop',\n",
       " 'G:\\\\Anaconda\\\\Anaconda Installation\\\\python37.zip',\n",
       " 'G:\\\\Anaconda\\\\Anaconda Installation\\\\DLLs',\n",
       " 'G:\\\\Anaconda\\\\Anaconda Installation\\\\lib',\n",
       " 'G:\\\\Anaconda\\\\Anaconda Installation',\n",
       " '',\n",
       " 'G:\\\\Anaconda\\\\Anaconda Installation\\\\lib\\\\site-packages',\n",
       " 'G:\\\\Anaconda\\\\Anaconda Installation\\\\lib\\\\site-packages\\\\win32',\n",
       " 'G:\\\\Anaconda\\\\Anaconda Installation\\\\lib\\\\site-packages\\\\win32\\\\lib',\n",
       " 'G:\\\\Anaconda\\\\Anaconda Installation\\\\lib\\\\site-packages\\\\Pythonwin',\n",
       " 'G:\\\\Anaconda\\\\Anaconda Installation\\\\lib\\\\site-packages\\\\IPython\\\\extensions',\n",
       " 'C:\\\\Users\\\\HP\\\\.ipython']"
      ]
     },
     "execution_count": 47,
     "metadata": {},
     "output_type": "execute_result"
    }
   ],
   "source": [
    "sys.path"
   ]
  },
  {
   "cell_type": "code",
   "execution_count": 1,
   "metadata": {},
   "outputs": [
    {
     "ename": "OSError",
     "evalue": "[Errno 22] Invalid argument: 'G:\\\\Python\\testpython\\x08ubble.py'",
     "output_type": "error",
     "traceback": [
      "\u001b[1;31m---------------------------------------------------------------------------\u001b[0m",
      "\u001b[1;31mOSError\u001b[0m                                   Traceback (most recent call last)",
      "\u001b[1;32m<ipython-input-1-f30badbc67a4>\u001b[0m in \u001b[0;36m<module>\u001b[1;34m\u001b[0m\n\u001b[1;32m----> 1\u001b[1;33m \u001b[0mopen\u001b[0m\u001b[1;33m(\u001b[0m\u001b[1;34m'G:\\Python\\testpython\\bubble.py'\u001b[0m\u001b[1;33m)\u001b[0m\u001b[1;33m\u001b[0m\u001b[1;33m\u001b[0m\u001b[0m\n\u001b[0m",
      "\u001b[1;31mOSError\u001b[0m: [Errno 22] Invalid argument: 'G:\\\\Python\\testpython\\x08ubble.py'"
     ]
    }
   ],
   "source": [
    "open('G:\\Python\\testpython\\bubble.py')"
   ]
  },
  {
   "cell_type": "code",
   "execution_count": 5,
   "metadata": {},
   "outputs": [
    {
     "data": {
      "text/plain": [
       "'Results of the 2016 HarshoMahotsav'"
      ]
     },
     "execution_count": 5,
     "metadata": {},
     "output_type": "execute_result"
    }
   ],
   "source": [
    "year = 2016\n",
    "event = 'HarshoMahotsav'\n",
    "f'Results of the {year} {event}'"
   ]
  },
  {
   "cell_type": "code",
   "execution_count": 6,
   "metadata": {},
   "outputs": [
    {
     "data": {
      "text/plain": [
       "' 42572654 YES votes  49.67%'"
      ]
     },
     "execution_count": 6,
     "metadata": {},
     "output_type": "execute_result"
    }
   ],
   "source": [
    "yes_votes = 42_572_654\n",
    "no_votes = 43_132_495\n",
    "percentage = yes_votes / (yes_votes + no_votes)\n",
    "'{:-9} YES votes  {:2.2%}'.format(yes_votes, percentage)"
   ]
  },
  {
   "cell_type": "code",
   "execution_count": 7,
   "metadata": {},
   "outputs": [],
   "source": [
    "s = 'Harsh'"
   ]
  },
  {
   "cell_type": "code",
   "execution_count": 8,
   "metadata": {},
   "outputs": [
    {
     "data": {
      "text/plain": [
       "'Harsh'"
      ]
     },
     "execution_count": 8,
     "metadata": {},
     "output_type": "execute_result"
    }
   ],
   "source": [
    "str(s)"
   ]
  },
  {
   "cell_type": "code",
   "execution_count": 9,
   "metadata": {},
   "outputs": [
    {
     "data": {
      "text/plain": [
       "\"'Harsh'\""
      ]
     },
     "execution_count": 9,
     "metadata": {},
     "output_type": "execute_result"
    }
   ],
   "source": [
    "repr(s)"
   ]
  },
  {
   "cell_type": "code",
   "execution_count": 10,
   "metadata": {},
   "outputs": [
    {
     "name": "stdout",
     "output_type": "stream",
     "text": [
      "The value of x is 32.5, and y is 40000...\n"
     ]
    }
   ],
   "source": [
    "x = 10 * 3.25\n",
    "y = 200 * 200\n",
    "s = 'The value of x is ' + repr(x) + ', and y is ' + repr(y) + '...'\n",
    "print(s)"
   ]
  },
  {
   "cell_type": "code",
   "execution_count": 11,
   "metadata": {},
   "outputs": [
    {
     "name": "stdout",
     "output_type": "stream",
     "text": [
      "'hello, world\\n'\n"
     ]
    }
   ],
   "source": [
    "hello = 'hello, world\\n'\n",
    "hellos = repr(hello)\n",
    "print(hellos)"
   ]
  },
  {
   "cell_type": "code",
   "execution_count": 12,
   "metadata": {},
   "outputs": [
    {
     "data": {
      "text/plain": [
       "\"(32.5, 40000, ('spam', 'eggs'))\""
      ]
     },
     "execution_count": 12,
     "metadata": {},
     "output_type": "execute_result"
    }
   ],
   "source": [
    "repr((x, y, ('spam', 'eggs')))"
   ]
  },
  {
   "cell_type": "code",
   "execution_count": 15,
   "metadata": {},
   "outputs": [
    {
     "name": "stdout",
     "output_type": "stream",
     "text": [
      "pi value 3.142.\n"
     ]
    }
   ],
   "source": [
    "import math\n",
    "print(f'pi value {math.pi:.3f}.')"
   ]
  },
  {
   "cell_type": "code",
   "execution_count": 22,
   "metadata": {},
   "outputs": [
    {
     "name": "stdout",
     "output_type": "stream",
     "text": [
      "Sjoerd     ==>       4127\n",
      "Jack       ==>       4098\n",
      "Dcab       ==>       7678\n"
     ]
    }
   ],
   "source": [
    "table = {'Sjoerd': 4127, 'Jack': 4098, 'Dcab': 7678}\n",
    "for name, phone in table.items():\n",
    "    print(f'{name:10} ==> {phone:10d}')"
   ]
  },
  {
   "cell_type": "code",
   "execution_count": 17,
   "metadata": {},
   "outputs": [
    {
     "name": "stdout",
     "output_type": "stream",
     "text": [
      "We are the knights who say \"Ni!\"\n"
     ]
    }
   ],
   "source": [
    "print('We are the {} who say \"{}!\"'.format('knights', 'Ni'))"
   ]
  },
  {
   "cell_type": "code",
   "execution_count": 19,
   "metadata": {},
   "outputs": [
    {
     "name": "stdout",
     "output_type": "stream",
     "text": [
      "cakes and eggs\n"
     ]
    }
   ],
   "source": [
    "print('{0} and {1}'.format('cakes','eggs'))"
   ]
  },
  {
   "cell_type": "code",
   "execution_count": 23,
   "metadata": {},
   "outputs": [
    {
     "name": "stdout",
     "output_type": "stream",
     "text": [
      "This spam is absolutely horrible.\n"
     ]
    }
   ],
   "source": [
    "print('This {food} is {adjective}.'.format(food='spam', adjective='absolutely horrible'))"
   ]
  },
  {
   "cell_type": "code",
   "execution_count": 25,
   "metadata": {},
   "outputs": [
    {
     "name": "stdout",
     "output_type": "stream",
     "text": [
      "The story of Bill, Manfred, and Georg.\n"
     ]
    }
   ],
   "source": [
    "print('The story of {0}, {1}, and {other}.'.format('Bill', 'Manfred',other='Georg'))"
   ]
  },
  {
   "cell_type": "code",
   "execution_count": 27,
   "metadata": {},
   "outputs": [
    {
     "name": "stdout",
     "output_type": "stream",
     "text": [
      "Jack: 4098; Sjoerd: 4127; Dcab: 8637678\n"
     ]
    }
   ],
   "source": [
    "table = {'Sjoerd': 4127, 'Jack': 4098, 'Dcab': 8637678}\n",
    "print('Jack: {0[Jack]:d}; Sjoerd: {0[Sjoerd]:d}; ''Dcab: {0[Dcab]:d}'.format(table))"
   ]
  },
  {
   "cell_type": "code",
   "execution_count": 28,
   "metadata": {},
   "outputs": [
    {
     "name": "stdout",
     "output_type": "stream",
     "text": [
      " 1   1    1\n",
      " 2   4    8\n",
      " 3   9   27\n",
      " 4  16   64\n",
      " 5  25  125\n",
      " 6  36  216\n",
      " 7  49  343\n",
      " 8  64  512\n",
      " 9  81  729\n",
      "10 100 1000\n"
     ]
    }
   ],
   "source": [
    "for x in range(1, 11):\n",
    "    print('{0:2d} {1:3d} {2:4d}'.format(x, x*x, x*x*x))"
   ]
  },
  {
   "cell_type": "code",
   "execution_count": 29,
   "metadata": {},
   "outputs": [
    {
     "name": "stdout",
     "output_type": "stream",
     "text": [
      " 1   1    1\n",
      " 2   4    8\n",
      " 3   9   27\n",
      " 4  16   64\n",
      " 5  25  125\n",
      " 6  36  216\n",
      " 7  49  343\n",
      " 8  64  512\n",
      " 9  81  729\n",
      "10 100 1000\n"
     ]
    }
   ],
   "source": [
    "for x in range(1, 11):\n",
    "    print(repr(x).rjust(2), repr(x*x).rjust(3), end=' ')\n",
    "    #Note use of 'end' on previous line\n",
    "    print(repr(x*x*x).rjust(4))"
   ]
  },
  {
   "cell_type": "code",
   "execution_count": 30,
   "metadata": {},
   "outputs": [],
   "source": [
    "with open(\"student.txt\",'w', encoding = 'utf-8') as f:\n",
    "    f.write(\"Name\\t Marks1\\t Marks2\\t Marks3\\t Total\\n\")\n",
    "    f.write(\"Raj\\t 35\\t 40\\t 40\\n\")\n",
    "    f.write(\"Raman\\t 50\\t 55\\t 34\\n\")\n",
    "    f.write(\"Raghav\\t 45\\t 23\\t 67\\n\")"
   ]
  },
  {
   "cell_type": "code",
   "execution_count": 1,
   "metadata": {},
   "outputs": [
    {
     "name": "stdout",
     "output_type": "stream",
     "text": [
      "Name\t Marks1\t Marks2\t Marks3\t Total\n",
      "Raj\t 35\t 40\t 40\n",
      "Raman\t 50\t 55\t 34\n",
      "Raghav\t 45\t 23\t 67\n",
      "\n"
     ]
    }
   ],
   "source": [
    "f = open(\"student.txt\",\"r\")\n",
    "print(f.read())"
   ]
  },
  {
   "cell_type": "code",
   "execution_count": 48,
   "metadata": {},
   "outputs": [
    {
     "name": "stdout",
     "output_type": "stream",
     "text": [
      "Na\n"
     ]
    }
   ],
   "source": [
    "f = open(\"student.txt\",\"r\")\n",
    "print(f.readline(2))"
   ]
  },
  {
   "cell_type": "code",
   "execution_count": null,
   "metadata": {},
   "outputs": [],
   "source": []
  },
  {
   "cell_type": "code",
   "execution_count": null,
   "metadata": {},
   "outputs": [],
   "source": []
  },
  {
   "cell_type": "code",
   "execution_count": null,
   "metadata": {},
   "outputs": [],
   "source": []
  },
  {
   "cell_type": "code",
   "execution_count": null,
   "metadata": {},
   "outputs": [],
   "source": []
  },
  {
   "cell_type": "code",
   "execution_count": null,
   "metadata": {},
   "outputs": [],
   "source": []
  },
  {
   "cell_type": "code",
   "execution_count": 7,
   "metadata": {},
   "outputs": [
    {
     "name": "stdout",
     "output_type": "stream",
     "text": [
      "int32\n"
     ]
    }
   ],
   "source": [
    "import numpy as np\n",
    "a = np.array([2,3,4])\n",
    "print(a.dtype)"
   ]
  },
  {
   "cell_type": "code",
   "execution_count": 10,
   "metadata": {},
   "outputs": [
    {
     "data": {
      "text/plain": [
       "array([1.2, 3.5, 5.1])"
      ]
     },
     "execution_count": 10,
     "metadata": {},
     "output_type": "execute_result"
    }
   ],
   "source": [
    "b = np.array((1.2,3.5,5.1))\n",
    "b"
   ]
  },
  {
   "cell_type": "code",
   "execution_count": 12,
   "metadata": {},
   "outputs": [
    {
     "name": "stdout",
     "output_type": "stream",
     "text": [
      "Addition of two arrays: \n",
      "[[ 7. 13.]\n",
      " [ 4. 14.]]\n"
     ]
    }
   ],
   "source": [
    "arr1 = np.array([[4, 7], [2, 6]], dtype = np.float64)\n",
    "arr2 = np.array([[3, 6], [2, 8]], dtype = np.float64) \n",
    "Sum = np.add(arr1, arr2)\n",
    "print(\"Addition of two arrays: \")\n",
    "print(Sum)"
   ]
  },
  {
   "cell_type": "code",
   "execution_count": 13,
   "metadata": {},
   "outputs": [
    {
     "name": "stdout",
     "output_type": "stream",
     "text": [
      "\n",
      "Transpose of Array: \n",
      "[[4. 2.]\n",
      " [7. 6.]]\n"
     ]
    }
   ],
   "source": [
    "Trans_arr = arr1.T\n",
    "print(\"\\nTranspose of Array: \")\n",
    "print(Trans_arr)"
   ]
  },
  {
   "cell_type": "code",
   "execution_count": 15,
   "metadata": {},
   "outputs": [
    {
     "name": "stdout",
     "output_type": "stream",
     "text": [
      "\n",
      " A sequential array with 10 values between0 and 5:\n",
      " [ 0  5 10 15 20 25]\n"
     ]
    }
   ],
   "source": [
    "f = np.arange(0, 30, 5) \n",
    "print(\"\\n A sequential array with 10 values between\" \"0 and 5:\\n\", f)"
   ]
  },
  {
   "cell_type": "code",
   "execution_count": 19,
   "metadata": {},
   "outputs": [
    {
     "ename": "NameError",
     "evalue": "name 'numpy' is not defined",
     "output_type": "error",
     "traceback": [
      "\u001b[1;31m---------------------------------------------------------------------------\u001b[0m",
      "\u001b[1;31mNameError\u001b[0m                                 Traceback (most recent call last)",
      "\u001b[1;32m<ipython-input-19-2cb1708925de>\u001b[0m in \u001b[0;36m<module>\u001b[1;34m\u001b[0m\n\u001b[1;32m----> 1\u001b[1;33m \u001b[0mar\u001b[0m \u001b[1;33m=\u001b[0m \u001b[0mnumpy\u001b[0m\u001b[1;33m.\u001b[0m\u001b[0mrandom\u001b[0m\u001b[1;33m.\u001b[0m\u001b[0mrand\u001b[0m\u001b[1;33m(\u001b[0m\u001b[1;36m2\u001b[0m\u001b[1;33m,\u001b[0m\u001b[1;36m3\u001b[0m\u001b[1;33m)\u001b[0m\u001b[1;33m\u001b[0m\u001b[1;33m\u001b[0m\u001b[0m\n\u001b[0m",
      "\u001b[1;31mNameError\u001b[0m: name 'numpy' is not defined"
     ]
    }
   ],
   "source": [
    " ar = numpy.random.rand(2,3)"
   ]
  },
  {
   "cell_type": "code",
   "execution_count": 1,
   "metadata": {},
   "outputs": [
    {
     "name": "stdout",
     "output_type": "stream",
     "text": [
      "   country    capital    area  population\n",
      "0   Brazil     Moscow   8.516      200.40\n",
      "1  America  New Dehli  17.100      143.50\n",
      "2   Russia    Beijing   3.286     1252.00\n",
      "3    India   Pretoria   9.597     1357.00\n",
      "4    China   Brasilia   1.221       52.98\n"
     ]
    }
   ],
   "source": [
    "#pandas, there are several ways to create a dataframe, one way is to use a dictionary. for eg\n",
    "dict = {\"country\" : [\"Brazil\",\"America\",\"Russia\",\"India\",\"China\"],\n",
    "        \"capital\" : [\"Moscow\",\"New Dehli\",\"Beijing\",\"Pretoria\",\"Brasilia\"],\n",
    "        \"area\" : [8.516, 17.10, 3.286, 9.597, 1.221],\n",
    "        \"population\" : [200.4, 143.5, 1252, 1357, 52.98]\n",
    "       }\n",
    "import pandas as pd\n",
    "brics = pd.DataFrame(dict)\n",
    "print(brics)"
   ]
  },
  {
   "cell_type": "code",
   "execution_count": 2,
   "metadata": {},
   "outputs": [
    {
     "name": "stdout",
     "output_type": "stream",
     "text": [
      "    country    capital    area  population\n",
      "BR   Brazil     Moscow   8.516      200.40\n",
      "AM  America  New Dehli  17.100      143.50\n",
      "RU   Russia    Beijing   3.286     1252.00\n",
      "IN    India   Pretoria   9.597     1357.00\n",
      "CH    China   Brasilia   1.221       52.98\n"
     ]
    }
   ],
   "source": [
    "#Setting the vrics for brics\n",
    "brics.index = [\"BR\",\"AM\",\"RU\",\"IN\",\"CH\"]\n",
    "print(brics)"
   ]
  },
  {
   "cell_type": "code",
   "execution_count": 10,
   "metadata": {},
   "outputs": [
    {
     "name": "stdout",
     "output_type": "stream",
     "text": [
      "  Unnamed: 0  cars_per_cap        country  drives_right\n",
      "0         US          8909  United_States          True\n",
      "1        AUS           731      Australia         False\n",
      "2        JAP           588          Japan         False\n",
      "3         IN           234          India         False\n",
      "4         RU           342         Russia          True\n"
     ]
    }
   ],
   "source": [
    "#Another way to create a Dataframe is by importing a csv file using pandas. \n",
    "import pandas as pd\n",
    "cars = pd.read_csv('cars.csv')\n",
    "print(cars)"
   ]
  },
  {
   "cell_type": "code",
   "execution_count": 16,
   "metadata": {},
   "outputs": [
    {
     "name": "stdout",
     "output_type": "stream",
     "text": [
      "Unnamed: 0\n",
      "US     8909\n",
      "AUS     731\n",
      "JAP     588\n",
      "IN      234\n",
      "RU      342\n",
      "Name: cars_per_cap, dtype: int64\n",
      "            cars_per_cap\n",
      "Unnamed: 0              \n",
      "US                  8909\n",
      "AUS                  731\n",
      "JAP                  588\n",
      "IN                   234\n",
      "RU                   342\n",
      "            cars_per_cap        country\n",
      "Unnamed: 0                             \n",
      "US                  8909  United_States\n",
      "AUS                  731      Australia\n",
      "JAP                  588          Japan\n",
      "IN                   234          India\n",
      "RU                   342         Russia\n"
     ]
    }
   ],
   "source": [
    "#Indexing DataFrames, There are several ways to index a Pandas DataFrame. One of the easiest ways to do this is by using square bracket notation.\n",
    "import pandas as pd\n",
    "cars = pd.read_csv('cars.csv', index_col = 0)\n",
    "\n",
    "#Printing out country column as Pandas Series\n",
    "print(cars['cars_per_cap'])\n",
    "\n",
    "#Printing out country column as Pandas DataFrame\n",
    "print(cars[['cars_per_cap']])\n",
    "\n",
    "#Printing out DataFrame with country and drives_right columns\n",
    "print(cars[['cars_per_cap','country']])"
   ]
  },
  {
   "cell_type": "code",
   "execution_count": 18,
   "metadata": {},
   "outputs": [
    {
     "name": "stdout",
     "output_type": "stream",
     "text": [
      "            cars_per_cap        country  drives_right\n",
      "Unnamed: 0                                           \n",
      "US                  8909  United_States          True\n",
      "AUS                  731      Australia         False\n",
      "JAP                  588          Japan         False\n",
      "IN                   234          India         False\n",
      "            cars_per_cap country  drives_right\n",
      "Unnamed: 0                                    \n",
      "RU                   342  Russia          True\n"
     ]
    }
   ],
   "source": [
    "#Square brackets can also be used to access observations (rows) from a DataFrame. For example\n",
    "import pandas as pd\n",
    "cars = pd.read_csv('cars.csv', index_col = 0)\n",
    "\n",
    "#printing out first 4 data\n",
    "print(cars[0:4])\n",
    "\n",
    "# Print out fifth, sixth, and seventh observation\n",
    "print(cars[4:6])"
   ]
  },
  {
   "cell_type": "code",
   "execution_count": 19,
   "metadata": {},
   "outputs": [
    {
     "name": "stderr",
     "output_type": "stream",
     "text": [
      "G:\\Anaconda\\Anaconda Installation\\lib\\site-packages\\ipykernel_launcher.py:6: FutureWarning: \n",
      "Passing list-likes to .loc or [] with any missing label will raise\n",
      "KeyError in the future, you can use .reindex() as an alternative.\n",
      "\n",
      "See the documentation here:\n",
      "https://pandas.pydata.org/pandas-docs/stable/indexing.html#deprecate-loc-reindex-listlike\n",
      "  \n"
     ]
    },
    {
     "name": "stdout",
     "output_type": "stream",
     "text": [
      "            cars_per_cap    country drives_right\n",
      "Unnamed: 0                                      \n",
      "AUS                731.0  Australia        False\n",
      "EG                   NaN        NaN          NaN\n",
      "cars_per_cap      588\n",
      "country         Japan\n",
      "drives_right    False\n",
      "Name: JAP, dtype: object\n"
     ]
    }
   ],
   "source": [
    "import pandas as pd\n",
    "cars = pd.read_csv('cars.csv', index_col = 0)\n",
    "\n",
    "#loc and iloc\n",
    "#loc = loc is label-based, which means that you have to specify rows and columns based on their row and column labels.\n",
    "print(cars.loc[['AUS', 'EG']])\n",
    "\n",
    "#iloc =  iloc is integer index based, so you have to specify rows and columns by their integer index\n",
    "print(cars.iloc[2])"
   ]
  },
  {
   "cell_type": "code",
   "execution_count": 21,
   "metadata": {},
   "outputs": [
    {
     "data": {
      "text/html": [
       "<div>\n",
       "<style scoped>\n",
       "    .dataframe tbody tr th:only-of-type {\n",
       "        vertical-align: middle;\n",
       "    }\n",
       "\n",
       "    .dataframe tbody tr th {\n",
       "        vertical-align: top;\n",
       "    }\n",
       "\n",
       "    .dataframe thead th {\n",
       "        text-align: right;\n",
       "    }\n",
       "</style>\n",
       "<table border=\"1\" class=\"dataframe\">\n",
       "  <thead>\n",
       "    <tr style=\"text-align: right;\">\n",
       "      <th></th>\n",
       "      <th>Unnamed: 0</th>\n",
       "      <th>cars_per_cap</th>\n",
       "      <th>country</th>\n",
       "      <th>drives_right</th>\n",
       "    </tr>\n",
       "  </thead>\n",
       "  <tbody>\n",
       "    <tr>\n",
       "      <th>0</th>\n",
       "      <td>US</td>\n",
       "      <td>8909</td>\n",
       "      <td>United_States</td>\n",
       "      <td>True</td>\n",
       "    </tr>\n",
       "    <tr>\n",
       "      <th>1</th>\n",
       "      <td>AUS</td>\n",
       "      <td>731</td>\n",
       "      <td>Australia</td>\n",
       "      <td>False</td>\n",
       "    </tr>\n",
       "  </tbody>\n",
       "</table>\n",
       "</div>"
      ],
      "text/plain": [
       "  Unnamed: 0  cars_per_cap        country  drives_right\n",
       "0         US          8909  United_States          True\n",
       "1        AUS           731      Australia         False"
      ]
     },
     "execution_count": 21,
     "metadata": {},
     "output_type": "execute_result"
    }
   ],
   "source": [
    "import pandas as pd\n",
    "cars = pd.read_csv('cars.csv')\n",
    "cars.head(2)"
   ]
  },
  {
   "cell_type": "code",
   "execution_count": 22,
   "metadata": {},
   "outputs": [
    {
     "data": {
      "text/html": [
       "<div>\n",
       "<style scoped>\n",
       "    .dataframe tbody tr th:only-of-type {\n",
       "        vertical-align: middle;\n",
       "    }\n",
       "\n",
       "    .dataframe tbody tr th {\n",
       "        vertical-align: top;\n",
       "    }\n",
       "\n",
       "    .dataframe thead th {\n",
       "        text-align: right;\n",
       "    }\n",
       "</style>\n",
       "<table border=\"1\" class=\"dataframe\">\n",
       "  <thead>\n",
       "    <tr style=\"text-align: right;\">\n",
       "      <th></th>\n",
       "      <th>Unnamed: 0</th>\n",
       "      <th>cars_per_cap</th>\n",
       "      <th>country</th>\n",
       "      <th>drives_right</th>\n",
       "    </tr>\n",
       "  </thead>\n",
       "  <tbody>\n",
       "    <tr>\n",
       "      <th>3</th>\n",
       "      <td>IN</td>\n",
       "      <td>234</td>\n",
       "      <td>India</td>\n",
       "      <td>False</td>\n",
       "    </tr>\n",
       "    <tr>\n",
       "      <th>4</th>\n",
       "      <td>RU</td>\n",
       "      <td>342</td>\n",
       "      <td>Russia</td>\n",
       "      <td>True</td>\n",
       "    </tr>\n",
       "  </tbody>\n",
       "</table>\n",
       "</div>"
      ],
      "text/plain": [
       "  Unnamed: 0  cars_per_cap country  drives_right\n",
       "3         IN           234   India         False\n",
       "4         RU           342  Russia          True"
      ]
     },
     "execution_count": 22,
     "metadata": {},
     "output_type": "execute_result"
    }
   ],
   "source": [
    "cars.tail(2)"
   ]
  },
  {
   "cell_type": "code",
   "execution_count": 23,
   "metadata": {},
   "outputs": [
    {
     "data": {
      "text/plain": [
       "RangeIndex(start=0, stop=5, step=1)"
      ]
     },
     "execution_count": 23,
     "metadata": {},
     "output_type": "execute_result"
    }
   ],
   "source": [
    "cars.index"
   ]
  },
  {
   "cell_type": "code",
   "execution_count": 25,
   "metadata": {},
   "outputs": [
    {
     "data": {
      "text/plain": [
       "Index(['Unnamed: 0', 'cars_per_cap', 'country', 'drives_right'], dtype='object')"
      ]
     },
     "execution_count": 25,
     "metadata": {},
     "output_type": "execute_result"
    }
   ],
   "source": [
    "cars.columns"
   ]
  },
  {
   "cell_type": "code",
   "execution_count": null,
   "metadata": {},
   "outputs": [],
   "source": [
    "cars"
   ]
  },
  {
   "cell_type": "code",
   "execution_count": null,
   "metadata": {},
   "outputs": [],
   "source": [
    "print(cars)"
   ]
  },
  {
   "cell_type": "code",
   "execution_count": null,
   "metadata": {},
   "outputs": [],
   "source": [
    "import pandas as pd\n",
    "cars = pd.read_csv('cars.csv')\n",
    "cars.head(2)"
   ]
  },
  {
   "cell_type": "code",
   "execution_count": null,
   "metadata": {},
   "outputs": [],
   "source": [
    "cars.index"
   ]
  },
  {
   "cell_type": "code",
   "execution_count": 14,
   "metadata": {},
   "outputs": [
    {
     "data": {
      "text/html": [
       "<div>\n",
       "<style scoped>\n",
       "    .dataframe tbody tr th:only-of-type {\n",
       "        vertical-align: middle;\n",
       "    }\n",
       "\n",
       "    .dataframe tbody tr th {\n",
       "        vertical-align: top;\n",
       "    }\n",
       "\n",
       "    .dataframe thead th {\n",
       "        text-align: right;\n",
       "    }\n",
       "</style>\n",
       "<table border=\"1\" class=\"dataframe\">\n",
       "  <thead>\n",
       "    <tr style=\"text-align: right;\">\n",
       "      <th></th>\n",
       "      <th>District-Name</th>\n",
       "      <th>Total Schools - Government</th>\n",
       "      <th>Unnamed: 2</th>\n",
       "      <th>Unnamed: 3</th>\n",
       "      <th>Unnamed: 4</th>\n",
       "      <th>Unnamed: 5</th>\n",
       "      <th>Unnamed: 6</th>\n",
       "      <th>Unnamed: 7</th>\n",
       "      <th>Total Schools - Private</th>\n",
       "      <th>Unnamed: 9</th>\n",
       "      <th>...</th>\n",
       "      <th>Unnamed: 122</th>\n",
       "      <th>Unnamed: 123</th>\n",
       "      <th>Unnamed: 124</th>\n",
       "      <th>Number of Schools with Computer</th>\n",
       "      <th>Unnamed: 126</th>\n",
       "      <th>Unnamed: 127</th>\n",
       "      <th>Unnamed: 128</th>\n",
       "      <th>Unnamed: 129</th>\n",
       "      <th>Unnamed: 130</th>\n",
       "      <th>Unnamed: 131</th>\n",
       "    </tr>\n",
       "  </thead>\n",
       "  <tbody>\n",
       "    <tr>\n",
       "      <th>0</th>\n",
       "      <td>NaN</td>\n",
       "      <td>NaN</td>\n",
       "      <td>NaN</td>\n",
       "      <td>NaN</td>\n",
       "      <td>NaN</td>\n",
       "      <td>NaN</td>\n",
       "      <td>NaN</td>\n",
       "      <td>NaN</td>\n",
       "      <td>NaN</td>\n",
       "      <td>NaN</td>\n",
       "      <td>...</td>\n",
       "      <td>NaN</td>\n",
       "      <td>NaN</td>\n",
       "      <td>NaN</td>\n",
       "      <td>NaN</td>\n",
       "      <td>NaN</td>\n",
       "      <td>NaN</td>\n",
       "      <td>NaN</td>\n",
       "      <td>NaN</td>\n",
       "      <td>NaN</td>\n",
       "      <td>NaN</td>\n",
       "    </tr>\n",
       "    <tr>\n",
       "      <th>1</th>\n",
       "      <td>NaN</td>\n",
       "      <td>Primary</td>\n",
       "      <td>Primary with Upper primary</td>\n",
       "      <td>Primary with Upper Primary sec and higher sec.</td>\n",
       "      <td>Upper Primary Only</td>\n",
       "      <td>Upper Primary with sec. and higher sec.</td>\n",
       "      <td>Primary with Upper primary and secondary</td>\n",
       "      <td>Upper Primary with secondary</td>\n",
       "      <td>Primary</td>\n",
       "      <td>Primary with Upper primary</td>\n",
       "      <td>...</td>\n",
       "      <td>Upper Primary with sec./higher sec.</td>\n",
       "      <td>Primary with Upper primary and secondary</td>\n",
       "      <td>Upper Primary with secondary</td>\n",
       "      <td>Primary</td>\n",
       "      <td>Primary with Upper primary</td>\n",
       "      <td>Primary with Upper Primary sec/higher sec.</td>\n",
       "      <td>Upper Primary Only</td>\n",
       "      <td>Upper Primary with sec./higher sec.</td>\n",
       "      <td>Primary with Upper primary and secondary</td>\n",
       "      <td>Upper Primary with secondary</td>\n",
       "    </tr>\n",
       "    <tr>\n",
       "      <th>2</th>\n",
       "      <td>NaN</td>\n",
       "      <td>schgovt1</td>\n",
       "      <td>schgovt2</td>\n",
       "      <td>schgovt3</td>\n",
       "      <td>schgovt4</td>\n",
       "      <td>schgovt5</td>\n",
       "      <td>schgovt6</td>\n",
       "      <td>schgovt7</td>\n",
       "      <td>schpvt1</td>\n",
       "      <td>schpvt2</td>\n",
       "      <td>...</td>\n",
       "      <td>Electric Sch5</td>\n",
       "      <td>Electric Sch6</td>\n",
       "      <td>Electric Sch7</td>\n",
       "      <td>Computer Sch1</td>\n",
       "      <td>Computer Sch2</td>\n",
       "      <td>Computer Sch3</td>\n",
       "      <td>Computer Sch4</td>\n",
       "      <td>Computer Sch5</td>\n",
       "      <td>Computer Sch6</td>\n",
       "      <td>Computer Sch7</td>\n",
       "    </tr>\n",
       "    <tr>\n",
       "      <th>3</th>\n",
       "      <td>AHMADABAD                                     ...</td>\n",
       "      <td>192</td>\n",
       "      <td>1055</td>\n",
       "      <td>5</td>\n",
       "      <td>140</td>\n",
       "      <td>0</td>\n",
       "      <td>1</td>\n",
       "      <td>1</td>\n",
       "      <td>85</td>\n",
       "      <td>1045</td>\n",
       "      <td>...</td>\n",
       "      <td>7</td>\n",
       "      <td>38</td>\n",
       "      <td>9</td>\n",
       "      <td>111</td>\n",
       "      <td>1835</td>\n",
       "      <td>111</td>\n",
       "      <td>149</td>\n",
       "      <td>4</td>\n",
       "      <td>33</td>\n",
       "      <td>4</td>\n",
       "    </tr>\n",
       "    <tr>\n",
       "      <th>4</th>\n",
       "      <td>AMRELI                                        ...</td>\n",
       "      <td>47</td>\n",
       "      <td>756</td>\n",
       "      <td>1</td>\n",
       "      <td>0</td>\n",
       "      <td>0</td>\n",
       "      <td>0</td>\n",
       "      <td>1</td>\n",
       "      <td>22</td>\n",
       "      <td>151</td>\n",
       "      <td>...</td>\n",
       "      <td>2</td>\n",
       "      <td>21</td>\n",
       "      <td>2</td>\n",
       "      <td>35</td>\n",
       "      <td>856</td>\n",
       "      <td>25</td>\n",
       "      <td>3</td>\n",
       "      <td>2</td>\n",
       "      <td>21</td>\n",
       "      <td>2</td>\n",
       "    </tr>\n",
       "    <tr>\n",
       "      <th>5</th>\n",
       "      <td>ANAND                                         ...</td>\n",
       "      <td>374</td>\n",
       "      <td>685</td>\n",
       "      <td>2</td>\n",
       "      <td>3</td>\n",
       "      <td>2</td>\n",
       "      <td>0</td>\n",
       "      <td>1</td>\n",
       "      <td>63</td>\n",
       "      <td>108</td>\n",
       "      <td>...</td>\n",
       "      <td>10</td>\n",
       "      <td>9</td>\n",
       "      <td>3</td>\n",
       "      <td>94</td>\n",
       "      <td>761</td>\n",
       "      <td>37</td>\n",
       "      <td>43</td>\n",
       "      <td>5</td>\n",
       "      <td>10</td>\n",
       "      <td>3</td>\n",
       "    </tr>\n",
       "    <tr>\n",
       "      <th>6</th>\n",
       "      <td>BANAS KANTHA                                  ...</td>\n",
       "      <td>1026</td>\n",
       "      <td>1337</td>\n",
       "      <td>1</td>\n",
       "      <td>2</td>\n",
       "      <td>4</td>\n",
       "      <td>3</td>\n",
       "      <td>11</td>\n",
       "      <td>45</td>\n",
       "      <td>139</td>\n",
       "      <td>...</td>\n",
       "      <td>13</td>\n",
       "      <td>24</td>\n",
       "      <td>15</td>\n",
       "      <td>250</td>\n",
       "      <td>1389</td>\n",
       "      <td>31</td>\n",
       "      <td>13</td>\n",
       "      <td>13</td>\n",
       "      <td>20</td>\n",
       "      <td>13</td>\n",
       "    </tr>\n",
       "    <tr>\n",
       "      <th>7</th>\n",
       "      <td>BHARUCH                                       ...</td>\n",
       "      <td>246</td>\n",
       "      <td>681</td>\n",
       "      <td>3</td>\n",
       "      <td>18</td>\n",
       "      <td>2</td>\n",
       "      <td>0</td>\n",
       "      <td>3</td>\n",
       "      <td>26</td>\n",
       "      <td>83</td>\n",
       "      <td>...</td>\n",
       "      <td>8</td>\n",
       "      <td>48</td>\n",
       "      <td>5</td>\n",
       "      <td>82</td>\n",
       "      <td>705</td>\n",
       "      <td>87</td>\n",
       "      <td>13</td>\n",
       "      <td>8</td>\n",
       "      <td>48</td>\n",
       "      <td>4</td>\n",
       "    </tr>\n",
       "    <tr>\n",
       "      <th>8</th>\n",
       "      <td>BHAVNAGAR                                     ...</td>\n",
       "      <td>101</td>\n",
       "      <td>1077</td>\n",
       "      <td>2</td>\n",
       "      <td>15</td>\n",
       "      <td>1</td>\n",
       "      <td>0</td>\n",
       "      <td>1</td>\n",
       "      <td>26</td>\n",
       "      <td>187</td>\n",
       "      <td>...</td>\n",
       "      <td>5</td>\n",
       "      <td>27</td>\n",
       "      <td>5</td>\n",
       "      <td>43</td>\n",
       "      <td>1173</td>\n",
       "      <td>89</td>\n",
       "      <td>15</td>\n",
       "      <td>5</td>\n",
       "      <td>23</td>\n",
       "      <td>4</td>\n",
       "    </tr>\n",
       "    <tr>\n",
       "      <th>9</th>\n",
       "      <td>DOHAD                                         ...</td>\n",
       "      <td>805</td>\n",
       "      <td>911</td>\n",
       "      <td>6</td>\n",
       "      <td>1</td>\n",
       "      <td>1</td>\n",
       "      <td>0</td>\n",
       "      <td>2</td>\n",
       "      <td>29</td>\n",
       "      <td>79</td>\n",
       "      <td>...</td>\n",
       "      <td>3</td>\n",
       "      <td>1</td>\n",
       "      <td>4</td>\n",
       "      <td>200</td>\n",
       "      <td>715</td>\n",
       "      <td>7</td>\n",
       "      <td>4</td>\n",
       "      <td>1</td>\n",
       "      <td>1</td>\n",
       "      <td>2</td>\n",
       "    </tr>\n",
       "    <tr>\n",
       "      <th>10</th>\n",
       "      <td>GANDHINAGAR                                   ...</td>\n",
       "      <td>110</td>\n",
       "      <td>527</td>\n",
       "      <td>4</td>\n",
       "      <td>0</td>\n",
       "      <td>1</td>\n",
       "      <td>0</td>\n",
       "      <td>3</td>\n",
       "      <td>24</td>\n",
       "      <td>143</td>\n",
       "      <td>...</td>\n",
       "      <td>13</td>\n",
       "      <td>20</td>\n",
       "      <td>5</td>\n",
       "      <td>62</td>\n",
       "      <td>645</td>\n",
       "      <td>70</td>\n",
       "      <td>18</td>\n",
       "      <td>7</td>\n",
       "      <td>19</td>\n",
       "      <td>4</td>\n",
       "    </tr>\n",
       "    <tr>\n",
       "      <th>11</th>\n",
       "      <td>JAMNAGAR                                      ...</td>\n",
       "      <td>155</td>\n",
       "      <td>1278</td>\n",
       "      <td>7</td>\n",
       "      <td>0</td>\n",
       "      <td>4</td>\n",
       "      <td>2</td>\n",
       "      <td>4</td>\n",
       "      <td>29</td>\n",
       "      <td>215</td>\n",
       "      <td>...</td>\n",
       "      <td>8</td>\n",
       "      <td>62</td>\n",
       "      <td>2</td>\n",
       "      <td>38</td>\n",
       "      <td>1195</td>\n",
       "      <td>62</td>\n",
       "      <td>4</td>\n",
       "      <td>7</td>\n",
       "      <td>56</td>\n",
       "      <td>1</td>\n",
       "    </tr>\n",
       "    <tr>\n",
       "      <th>12</th>\n",
       "      <td>JUNAGADH                                      ...</td>\n",
       "      <td>169</td>\n",
       "      <td>1163</td>\n",
       "      <td>1</td>\n",
       "      <td>3</td>\n",
       "      <td>1</td>\n",
       "      <td>16</td>\n",
       "      <td>2</td>\n",
       "      <td>65</td>\n",
       "      <td>556</td>\n",
       "      <td>...</td>\n",
       "      <td>2</td>\n",
       "      <td>75</td>\n",
       "      <td>3</td>\n",
       "      <td>65</td>\n",
       "      <td>1553</td>\n",
       "      <td>63</td>\n",
       "      <td>8</td>\n",
       "      <td>2</td>\n",
       "      <td>71</td>\n",
       "      <td>1</td>\n",
       "    </tr>\n",
       "    <tr>\n",
       "      <th>13</th>\n",
       "      <td>KACHCHH                                       ...</td>\n",
       "      <td>155</td>\n",
       "      <td>1552</td>\n",
       "      <td>5</td>\n",
       "      <td>0</td>\n",
       "      <td>1</td>\n",
       "      <td>0</td>\n",
       "      <td>0</td>\n",
       "      <td>42</td>\n",
       "      <td>161</td>\n",
       "      <td>...</td>\n",
       "      <td>5</td>\n",
       "      <td>31</td>\n",
       "      <td>0</td>\n",
       "      <td>58</td>\n",
       "      <td>1288</td>\n",
       "      <td>44</td>\n",
       "      <td>5</td>\n",
       "      <td>5</td>\n",
       "      <td>30</td>\n",
       "      <td>0</td>\n",
       "    </tr>\n",
       "    <tr>\n",
       "      <th>14</th>\n",
       "      <td>KHEDA                                         ...</td>\n",
       "      <td>696</td>\n",
       "      <td>1014</td>\n",
       "      <td>0</td>\n",
       "      <td>1</td>\n",
       "      <td>1</td>\n",
       "      <td>1</td>\n",
       "      <td>0</td>\n",
       "      <td>43</td>\n",
       "      <td>137</td>\n",
       "      <td>...</td>\n",
       "      <td>11</td>\n",
       "      <td>8</td>\n",
       "      <td>1</td>\n",
       "      <td>117</td>\n",
       "      <td>1119</td>\n",
       "      <td>13</td>\n",
       "      <td>13</td>\n",
       "      <td>9</td>\n",
       "      <td>8</td>\n",
       "      <td>1</td>\n",
       "    </tr>\n",
       "    <tr>\n",
       "      <th>15</th>\n",
       "      <td>MAHESANA                                      ...</td>\n",
       "      <td>177</td>\n",
       "      <td>833</td>\n",
       "      <td>1</td>\n",
       "      <td>0</td>\n",
       "      <td>1</td>\n",
       "      <td>0</td>\n",
       "      <td>0</td>\n",
       "      <td>31</td>\n",
       "      <td>127</td>\n",
       "      <td>...</td>\n",
       "      <td>11</td>\n",
       "      <td>21</td>\n",
       "      <td>4</td>\n",
       "      <td>114</td>\n",
       "      <td>908</td>\n",
       "      <td>38</td>\n",
       "      <td>13</td>\n",
       "      <td>8</td>\n",
       "      <td>21</td>\n",
       "      <td>2</td>\n",
       "    </tr>\n",
       "    <tr>\n",
       "      <th>16</th>\n",
       "      <td>NARMADA                                       ...</td>\n",
       "      <td>294</td>\n",
       "      <td>441</td>\n",
       "      <td>0</td>\n",
       "      <td>1</td>\n",
       "      <td>0</td>\n",
       "      <td>1</td>\n",
       "      <td>0</td>\n",
       "      <td>9</td>\n",
       "      <td>22</td>\n",
       "      <td>...</td>\n",
       "      <td>1</td>\n",
       "      <td>4</td>\n",
       "      <td>2</td>\n",
       "      <td>35</td>\n",
       "      <td>347</td>\n",
       "      <td>3</td>\n",
       "      <td>3</td>\n",
       "      <td>1</td>\n",
       "      <td>4</td>\n",
       "      <td>1</td>\n",
       "    </tr>\n",
       "    <tr>\n",
       "      <th>17</th>\n",
       "      <td>NAVSARI                                       ...</td>\n",
       "      <td>273</td>\n",
       "      <td>488</td>\n",
       "      <td>0</td>\n",
       "      <td>3</td>\n",
       "      <td>3</td>\n",
       "      <td>0</td>\n",
       "      <td>5</td>\n",
       "      <td>16</td>\n",
       "      <td>85</td>\n",
       "      <td>...</td>\n",
       "      <td>4</td>\n",
       "      <td>4</td>\n",
       "      <td>7</td>\n",
       "      <td>107</td>\n",
       "      <td>560</td>\n",
       "      <td>20</td>\n",
       "      <td>4</td>\n",
       "      <td>3</td>\n",
       "      <td>4</td>\n",
       "      <td>6</td>\n",
       "    </tr>\n",
       "    <tr>\n",
       "      <th>18</th>\n",
       "      <td>PANCH MAHALS                                  ...</td>\n",
       "      <td>1136</td>\n",
       "      <td>1281</td>\n",
       "      <td>0</td>\n",
       "      <td>6</td>\n",
       "      <td>2</td>\n",
       "      <td>0</td>\n",
       "      <td>4</td>\n",
       "      <td>44</td>\n",
       "      <td>94</td>\n",
       "      <td>...</td>\n",
       "      <td>14</td>\n",
       "      <td>10</td>\n",
       "      <td>14</td>\n",
       "      <td>151</td>\n",
       "      <td>1290</td>\n",
       "      <td>33</td>\n",
       "      <td>7</td>\n",
       "      <td>9</td>\n",
       "      <td>10</td>\n",
       "      <td>11</td>\n",
       "    </tr>\n",
       "    <tr>\n",
       "      <th>19</th>\n",
       "      <td>PATAN                                         ...</td>\n",
       "      <td>157</td>\n",
       "      <td>674</td>\n",
       "      <td>0</td>\n",
       "      <td>2</td>\n",
       "      <td>1</td>\n",
       "      <td>0</td>\n",
       "      <td>4</td>\n",
       "      <td>15</td>\n",
       "      <td>71</td>\n",
       "      <td>...</td>\n",
       "      <td>7</td>\n",
       "      <td>2</td>\n",
       "      <td>9</td>\n",
       "      <td>82</td>\n",
       "      <td>656</td>\n",
       "      <td>7</td>\n",
       "      <td>9</td>\n",
       "      <td>4</td>\n",
       "      <td>2</td>\n",
       "      <td>3</td>\n",
       "    </tr>\n",
       "    <tr>\n",
       "      <th>20</th>\n",
       "      <td>PORBANDAR                                     ...</td>\n",
       "      <td>43</td>\n",
       "      <td>291</td>\n",
       "      <td>2</td>\n",
       "      <td>0</td>\n",
       "      <td>1</td>\n",
       "      <td>0</td>\n",
       "      <td>1</td>\n",
       "      <td>18</td>\n",
       "      <td>76</td>\n",
       "      <td>...</td>\n",
       "      <td>4</td>\n",
       "      <td>8</td>\n",
       "      <td>1</td>\n",
       "      <td>13</td>\n",
       "      <td>312</td>\n",
       "      <td>17</td>\n",
       "      <td>1</td>\n",
       "      <td>3</td>\n",
       "      <td>8</td>\n",
       "      <td>1</td>\n",
       "    </tr>\n",
       "    <tr>\n",
       "      <th>21</th>\n",
       "      <td>RAJKOT                                        ...</td>\n",
       "      <td>59</td>\n",
       "      <td>1382</td>\n",
       "      <td>2</td>\n",
       "      <td>0</td>\n",
       "      <td>1</td>\n",
       "      <td>1</td>\n",
       "      <td>0</td>\n",
       "      <td>74</td>\n",
       "      <td>761</td>\n",
       "      <td>...</td>\n",
       "      <td>6</td>\n",
       "      <td>56</td>\n",
       "      <td>5</td>\n",
       "      <td>69</td>\n",
       "      <td>1952</td>\n",
       "      <td>101</td>\n",
       "      <td>6</td>\n",
       "      <td>6</td>\n",
       "      <td>52</td>\n",
       "      <td>4</td>\n",
       "    </tr>\n",
       "    <tr>\n",
       "      <th>22</th>\n",
       "      <td>SABAR KANTHA                                  ...</td>\n",
       "      <td>971</td>\n",
       "      <td>1568</td>\n",
       "      <td>1</td>\n",
       "      <td>2</td>\n",
       "      <td>3</td>\n",
       "      <td>6</td>\n",
       "      <td>2</td>\n",
       "      <td>66</td>\n",
       "      <td>123</td>\n",
       "      <td>...</td>\n",
       "      <td>45</td>\n",
       "      <td>42</td>\n",
       "      <td>16</td>\n",
       "      <td>217</td>\n",
       "      <td>1602</td>\n",
       "      <td>62</td>\n",
       "      <td>12</td>\n",
       "      <td>37</td>\n",
       "      <td>37</td>\n",
       "      <td>11</td>\n",
       "    </tr>\n",
       "    <tr>\n",
       "      <th>23</th>\n",
       "      <td>SURAT                                         ...</td>\n",
       "      <td>571</td>\n",
       "      <td>788</td>\n",
       "      <td>5</td>\n",
       "      <td>2</td>\n",
       "      <td>0</td>\n",
       "      <td>0</td>\n",
       "      <td>1</td>\n",
       "      <td>49</td>\n",
       "      <td>287</td>\n",
       "      <td>...</td>\n",
       "      <td>10</td>\n",
       "      <td>76</td>\n",
       "      <td>15</td>\n",
       "      <td>253</td>\n",
       "      <td>1009</td>\n",
       "      <td>397</td>\n",
       "      <td>6</td>\n",
       "      <td>9</td>\n",
       "      <td>73</td>\n",
       "      <td>7</td>\n",
       "    </tr>\n",
       "    <tr>\n",
       "      <th>24</th>\n",
       "      <td>SURENDRANAGAR                                 ...</td>\n",
       "      <td>112</td>\n",
       "      <td>885</td>\n",
       "      <td>2</td>\n",
       "      <td>19</td>\n",
       "      <td>1</td>\n",
       "      <td>0</td>\n",
       "      <td>0</td>\n",
       "      <td>28</td>\n",
       "      <td>140</td>\n",
       "      <td>...</td>\n",
       "      <td>4</td>\n",
       "      <td>15</td>\n",
       "      <td>3</td>\n",
       "      <td>48</td>\n",
       "      <td>983</td>\n",
       "      <td>34</td>\n",
       "      <td>25</td>\n",
       "      <td>4</td>\n",
       "      <td>15</td>\n",
       "      <td>1</td>\n",
       "    </tr>\n",
       "    <tr>\n",
       "      <th>25</th>\n",
       "      <td>TAPI                                          ...</td>\n",
       "      <td>482</td>\n",
       "      <td>378</td>\n",
       "      <td>0</td>\n",
       "      <td>0</td>\n",
       "      <td>2</td>\n",
       "      <td>0</td>\n",
       "      <td>0</td>\n",
       "      <td>11</td>\n",
       "      <td>14</td>\n",
       "      <td>...</td>\n",
       "      <td>6</td>\n",
       "      <td>5</td>\n",
       "      <td>12</td>\n",
       "      <td>103</td>\n",
       "      <td>374</td>\n",
       "      <td>3</td>\n",
       "      <td>2</td>\n",
       "      <td>6</td>\n",
       "      <td>5</td>\n",
       "      <td>8</td>\n",
       "    </tr>\n",
       "    <tr>\n",
       "      <th>26</th>\n",
       "      <td>THE DANGS                                     ...</td>\n",
       "      <td>258</td>\n",
       "      <td>141</td>\n",
       "      <td>1</td>\n",
       "      <td>1</td>\n",
       "      <td>0</td>\n",
       "      <td>0</td>\n",
       "      <td>5</td>\n",
       "      <td>6</td>\n",
       "      <td>12</td>\n",
       "      <td>...</td>\n",
       "      <td>0</td>\n",
       "      <td>0</td>\n",
       "      <td>5</td>\n",
       "      <td>37</td>\n",
       "      <td>136</td>\n",
       "      <td>0</td>\n",
       "      <td>1</td>\n",
       "      <td>0</td>\n",
       "      <td>0</td>\n",
       "      <td>3</td>\n",
       "    </tr>\n",
       "    <tr>\n",
       "      <th>27</th>\n",
       "      <td>VADODARA                                      ...</td>\n",
       "      <td>1373</td>\n",
       "      <td>1093</td>\n",
       "      <td>0</td>\n",
       "      <td>7</td>\n",
       "      <td>5</td>\n",
       "      <td>2</td>\n",
       "      <td>21</td>\n",
       "      <td>38</td>\n",
       "      <td>213</td>\n",
       "      <td>...</td>\n",
       "      <td>9</td>\n",
       "      <td>80</td>\n",
       "      <td>28</td>\n",
       "      <td>186</td>\n",
       "      <td>1057</td>\n",
       "      <td>188</td>\n",
       "      <td>11</td>\n",
       "      <td>7</td>\n",
       "      <td>76</td>\n",
       "      <td>25</td>\n",
       "    </tr>\n",
       "    <tr>\n",
       "      <th>28</th>\n",
       "      <td>VALSAD                                        ...</td>\n",
       "      <td>461</td>\n",
       "      <td>584</td>\n",
       "      <td>0</td>\n",
       "      <td>1</td>\n",
       "      <td>0</td>\n",
       "      <td>1</td>\n",
       "      <td>3</td>\n",
       "      <td>18</td>\n",
       "      <td>83</td>\n",
       "      <td>...</td>\n",
       "      <td>3</td>\n",
       "      <td>18</td>\n",
       "      <td>5</td>\n",
       "      <td>45</td>\n",
       "      <td>591</td>\n",
       "      <td>51</td>\n",
       "      <td>2</td>\n",
       "      <td>3</td>\n",
       "      <td>18</td>\n",
       "      <td>5</td>\n",
       "    </tr>\n",
       "  </tbody>\n",
       "</table>\n",
       "<p>29 rows × 132 columns</p>\n",
       "</div>"
      ],
      "text/plain": [
       "                                        District-Name  \\\n",
       "0                                                 NaN   \n",
       "1                                                 NaN   \n",
       "2                                                 NaN   \n",
       "3   AHMADABAD                                     ...   \n",
       "4   AMRELI                                        ...   \n",
       "5   ANAND                                         ...   \n",
       "6   BANAS KANTHA                                  ...   \n",
       "7   BHARUCH                                       ...   \n",
       "8   BHAVNAGAR                                     ...   \n",
       "9   DOHAD                                         ...   \n",
       "10  GANDHINAGAR                                   ...   \n",
       "11  JAMNAGAR                                      ...   \n",
       "12  JUNAGADH                                      ...   \n",
       "13  KACHCHH                                       ...   \n",
       "14  KHEDA                                         ...   \n",
       "15  MAHESANA                                      ...   \n",
       "16  NARMADA                                       ...   \n",
       "17  NAVSARI                                       ...   \n",
       "18  PANCH MAHALS                                  ...   \n",
       "19  PATAN                                         ...   \n",
       "20  PORBANDAR                                     ...   \n",
       "21  RAJKOT                                        ...   \n",
       "22  SABAR KANTHA                                  ...   \n",
       "23  SURAT                                         ...   \n",
       "24  SURENDRANAGAR                                 ...   \n",
       "25  TAPI                                          ...   \n",
       "26  THE DANGS                                     ...   \n",
       "27  VADODARA                                      ...   \n",
       "28  VALSAD                                        ...   \n",
       "\n",
       "   Total Schools - Government                  Unnamed: 2  \\\n",
       "0                         NaN                         NaN   \n",
       "1                     Primary  Primary with Upper primary   \n",
       "2                    schgovt1                    schgovt2   \n",
       "3                         192                        1055   \n",
       "4                          47                         756   \n",
       "5                         374                         685   \n",
       "6                        1026                        1337   \n",
       "7                         246                         681   \n",
       "8                         101                        1077   \n",
       "9                         805                         911   \n",
       "10                        110                         527   \n",
       "11                        155                        1278   \n",
       "12                        169                        1163   \n",
       "13                        155                        1552   \n",
       "14                        696                        1014   \n",
       "15                        177                         833   \n",
       "16                        294                         441   \n",
       "17                        273                         488   \n",
       "18                       1136                        1281   \n",
       "19                        157                         674   \n",
       "20                         43                         291   \n",
       "21                         59                        1382   \n",
       "22                        971                        1568   \n",
       "23                        571                         788   \n",
       "24                        112                         885   \n",
       "25                        482                         378   \n",
       "26                        258                         141   \n",
       "27                       1373                        1093   \n",
       "28                        461                         584   \n",
       "\n",
       "                                        Unnamed: 3          Unnamed: 4  \\\n",
       "0                                              NaN                 NaN   \n",
       "1   Primary with Upper Primary sec and higher sec.  Upper Primary Only   \n",
       "2                                         schgovt3            schgovt4   \n",
       "3                                                5                 140   \n",
       "4                                                1                   0   \n",
       "5                                                2                   3   \n",
       "6                                                1                   2   \n",
       "7                                                3                  18   \n",
       "8                                                2                  15   \n",
       "9                                                6                   1   \n",
       "10                                               4                   0   \n",
       "11                                               7                   0   \n",
       "12                                               1                   3   \n",
       "13                                               5                   0   \n",
       "14                                               0                   1   \n",
       "15                                               1                   0   \n",
       "16                                               0                   1   \n",
       "17                                               0                   3   \n",
       "18                                               0                   6   \n",
       "19                                               0                   2   \n",
       "20                                               2                   0   \n",
       "21                                               2                   0   \n",
       "22                                               1                   2   \n",
       "23                                               5                   2   \n",
       "24                                               2                  19   \n",
       "25                                               0                   0   \n",
       "26                                               1                   1   \n",
       "27                                               0                   7   \n",
       "28                                               0                   1   \n",
       "\n",
       "                                 Unnamed: 5  \\\n",
       "0                                       NaN   \n",
       "1   Upper Primary with sec. and higher sec.   \n",
       "2                                  schgovt5   \n",
       "3                                         0   \n",
       "4                                         0   \n",
       "5                                         2   \n",
       "6                                         4   \n",
       "7                                         2   \n",
       "8                                         1   \n",
       "9                                         1   \n",
       "10                                        1   \n",
       "11                                        4   \n",
       "12                                        1   \n",
       "13                                        1   \n",
       "14                                        1   \n",
       "15                                        1   \n",
       "16                                        0   \n",
       "17                                        3   \n",
       "18                                        2   \n",
       "19                                        1   \n",
       "20                                        1   \n",
       "21                                        1   \n",
       "22                                        3   \n",
       "23                                        0   \n",
       "24                                        1   \n",
       "25                                        2   \n",
       "26                                        0   \n",
       "27                                        5   \n",
       "28                                        0   \n",
       "\n",
       "                                  Unnamed: 6                    Unnamed: 7  \\\n",
       "0                                        NaN                           NaN   \n",
       "1   Primary with Upper primary and secondary  Upper Primary with secondary   \n",
       "2                                   schgovt6                      schgovt7   \n",
       "3                                          1                             1   \n",
       "4                                          0                             1   \n",
       "5                                          0                             1   \n",
       "6                                          3                            11   \n",
       "7                                          0                             3   \n",
       "8                                          0                             1   \n",
       "9                                          0                             2   \n",
       "10                                         0                             3   \n",
       "11                                         2                             4   \n",
       "12                                        16                             2   \n",
       "13                                         0                             0   \n",
       "14                                         1                             0   \n",
       "15                                         0                             0   \n",
       "16                                         1                             0   \n",
       "17                                         0                             5   \n",
       "18                                         0                             4   \n",
       "19                                         0                             4   \n",
       "20                                         0                             1   \n",
       "21                                         1                             0   \n",
       "22                                         6                             2   \n",
       "23                                         0                             1   \n",
       "24                                         0                             0   \n",
       "25                                         0                             0   \n",
       "26                                         0                             5   \n",
       "27                                         2                            21   \n",
       "28                                         1                             3   \n",
       "\n",
       "   Total Schools - Private                  Unnamed: 9  ...  \\\n",
       "0                      NaN                         NaN  ...   \n",
       "1                  Primary  Primary with Upper primary  ...   \n",
       "2                  schpvt1                     schpvt2  ...   \n",
       "3                       85                        1045  ...   \n",
       "4                       22                         151  ...   \n",
       "5                       63                         108  ...   \n",
       "6                       45                         139  ...   \n",
       "7                       26                          83  ...   \n",
       "8                       26                         187  ...   \n",
       "9                       29                          79  ...   \n",
       "10                      24                         143  ...   \n",
       "11                      29                         215  ...   \n",
       "12                      65                         556  ...   \n",
       "13                      42                         161  ...   \n",
       "14                      43                         137  ...   \n",
       "15                      31                         127  ...   \n",
       "16                       9                          22  ...   \n",
       "17                      16                          85  ...   \n",
       "18                      44                          94  ...   \n",
       "19                      15                          71  ...   \n",
       "20                      18                          76  ...   \n",
       "21                      74                         761  ...   \n",
       "22                      66                         123  ...   \n",
       "23                      49                         287  ...   \n",
       "24                      28                         140  ...   \n",
       "25                      11                          14  ...   \n",
       "26                       6                          12  ...   \n",
       "27                      38                         213  ...   \n",
       "28                      18                          83  ...   \n",
       "\n",
       "                           Unnamed: 122  \\\n",
       "0                                   NaN   \n",
       "1   Upper Primary with sec./higher sec.   \n",
       "2                         Electric Sch5   \n",
       "3                                     7   \n",
       "4                                     2   \n",
       "5                                    10   \n",
       "6                                    13   \n",
       "7                                     8   \n",
       "8                                     5   \n",
       "9                                     3   \n",
       "10                                   13   \n",
       "11                                    8   \n",
       "12                                    2   \n",
       "13                                    5   \n",
       "14                                   11   \n",
       "15                                   11   \n",
       "16                                    1   \n",
       "17                                    4   \n",
       "18                                   14   \n",
       "19                                    7   \n",
       "20                                    4   \n",
       "21                                    6   \n",
       "22                                   45   \n",
       "23                                   10   \n",
       "24                                    4   \n",
       "25                                    6   \n",
       "26                                    0   \n",
       "27                                    9   \n",
       "28                                    3   \n",
       "\n",
       "                                Unnamed: 123                  Unnamed: 124  \\\n",
       "0                                        NaN                           NaN   \n",
       "1   Primary with Upper primary and secondary  Upper Primary with secondary   \n",
       "2                              Electric Sch6                 Electric Sch7   \n",
       "3                                         38                             9   \n",
       "4                                         21                             2   \n",
       "5                                          9                             3   \n",
       "6                                         24                            15   \n",
       "7                                         48                             5   \n",
       "8                                         27                             5   \n",
       "9                                          1                             4   \n",
       "10                                        20                             5   \n",
       "11                                        62                             2   \n",
       "12                                        75                             3   \n",
       "13                                        31                             0   \n",
       "14                                         8                             1   \n",
       "15                                        21                             4   \n",
       "16                                         4                             2   \n",
       "17                                         4                             7   \n",
       "18                                        10                            14   \n",
       "19                                         2                             9   \n",
       "20                                         8                             1   \n",
       "21                                        56                             5   \n",
       "22                                        42                            16   \n",
       "23                                        76                            15   \n",
       "24                                        15                             3   \n",
       "25                                         5                            12   \n",
       "26                                         0                             5   \n",
       "27                                        80                            28   \n",
       "28                                        18                             5   \n",
       "\n",
       "   Number of Schools with Computer                 Unnamed: 126  \\\n",
       "0                               NaN                         NaN   \n",
       "1                           Primary  Primary with Upper primary   \n",
       "2                     Computer Sch1               Computer Sch2   \n",
       "3                               111                        1835   \n",
       "4                                35                         856   \n",
       "5                                94                         761   \n",
       "6                               250                        1389   \n",
       "7                                82                         705   \n",
       "8                                43                        1173   \n",
       "9                               200                         715   \n",
       "10                               62                         645   \n",
       "11                               38                        1195   \n",
       "12                               65                        1553   \n",
       "13                               58                        1288   \n",
       "14                              117                        1119   \n",
       "15                              114                         908   \n",
       "16                               35                         347   \n",
       "17                              107                         560   \n",
       "18                              151                        1290   \n",
       "19                               82                         656   \n",
       "20                               13                         312   \n",
       "21                               69                        1952   \n",
       "22                              217                        1602   \n",
       "23                              253                        1009   \n",
       "24                               48                         983   \n",
       "25                              103                         374   \n",
       "26                               37                         136   \n",
       "27                              186                        1057   \n",
       "28                               45                         591   \n",
       "\n",
       "                                  Unnamed: 127        Unnamed: 128  \\\n",
       "0                                          NaN                 NaN   \n",
       "1   Primary with Upper Primary sec/higher sec.  Upper Primary Only   \n",
       "2                                Computer Sch3       Computer Sch4   \n",
       "3                                          111                 149   \n",
       "4                                           25                   3   \n",
       "5                                           37                  43   \n",
       "6                                           31                  13   \n",
       "7                                           87                  13   \n",
       "8                                           89                  15   \n",
       "9                                            7                   4   \n",
       "10                                          70                  18   \n",
       "11                                          62                   4   \n",
       "12                                          63                   8   \n",
       "13                                          44                   5   \n",
       "14                                          13                  13   \n",
       "15                                          38                  13   \n",
       "16                                           3                   3   \n",
       "17                                          20                   4   \n",
       "18                                          33                   7   \n",
       "19                                           7                   9   \n",
       "20                                          17                   1   \n",
       "21                                         101                   6   \n",
       "22                                          62                  12   \n",
       "23                                         397                   6   \n",
       "24                                          34                  25   \n",
       "25                                           3                   2   \n",
       "26                                           0                   1   \n",
       "27                                         188                  11   \n",
       "28                                          51                   2   \n",
       "\n",
       "                           Unnamed: 129  \\\n",
       "0                                   NaN   \n",
       "1   Upper Primary with sec./higher sec.   \n",
       "2                         Computer Sch5   \n",
       "3                                     4   \n",
       "4                                     2   \n",
       "5                                     5   \n",
       "6                                    13   \n",
       "7                                     8   \n",
       "8                                     5   \n",
       "9                                     1   \n",
       "10                                    7   \n",
       "11                                    7   \n",
       "12                                    2   \n",
       "13                                    5   \n",
       "14                                    9   \n",
       "15                                    8   \n",
       "16                                    1   \n",
       "17                                    3   \n",
       "18                                    9   \n",
       "19                                    4   \n",
       "20                                    3   \n",
       "21                                    6   \n",
       "22                                   37   \n",
       "23                                    9   \n",
       "24                                    4   \n",
       "25                                    6   \n",
       "26                                    0   \n",
       "27                                    7   \n",
       "28                                    3   \n",
       "\n",
       "                                Unnamed: 130                  Unnamed: 131  \n",
       "0                                        NaN                           NaN  \n",
       "1   Primary with Upper primary and secondary  Upper Primary with secondary  \n",
       "2                              Computer Sch6                 Computer Sch7  \n",
       "3                                         33                             4  \n",
       "4                                         21                             2  \n",
       "5                                         10                             3  \n",
       "6                                         20                            13  \n",
       "7                                         48                             4  \n",
       "8                                         23                             4  \n",
       "9                                          1                             2  \n",
       "10                                        19                             4  \n",
       "11                                        56                             1  \n",
       "12                                        71                             1  \n",
       "13                                        30                             0  \n",
       "14                                         8                             1  \n",
       "15                                        21                             2  \n",
       "16                                         4                             1  \n",
       "17                                         4                             6  \n",
       "18                                        10                            11  \n",
       "19                                         2                             3  \n",
       "20                                         8                             1  \n",
       "21                                        52                             4  \n",
       "22                                        37                            11  \n",
       "23                                        73                             7  \n",
       "24                                        15                             1  \n",
       "25                                         5                             8  \n",
       "26                                         0                             3  \n",
       "27                                        76                            25  \n",
       "28                                        18                             5  \n",
       "\n",
       "[29 rows x 132 columns]"
      ]
     },
     "execution_count": 14,
     "metadata": {},
     "output_type": "execute_result"
    }
   ],
   "source": [
    "import pandas as pd\n",
    "\n",
    "df = pd.read_excel('F:\\DA\\Harsh\\DRC_Raw_Data 2012-13.xlsx')\n",
    "df.head(30)"
   ]
  },
  {
   "cell_type": "code",
   "execution_count": 4,
   "metadata": {},
   "outputs": [
    {
     "name": "stdout",
     "output_type": "stream",
     "text": [
      "                                        District Name  \\\n",
      "0                                                 NaN   \n",
      "1                                                 NaN   \n",
      "2                                                 NaN   \n",
      "3   AHMADABAD                                     ...   \n",
      "4   AMRELI                                        ...   \n",
      "5   ANAND                                         ...   \n",
      "6   BANAS KANTHA                                  ...   \n",
      "7   BHARUCH                                       ...   \n",
      "8   BHAVNAGAR                                     ...   \n",
      "9   DOHAD                                         ...   \n",
      "10  GANDHINAGAR                                   ...   \n",
      "11  JAMNAGAR                                      ...   \n",
      "12  JUNAGADH                                      ...   \n",
      "13  KACHCHH                                       ...   \n",
      "14  KHEDA                                         ...   \n",
      "15  MAHESANA                                      ...   \n",
      "16  NARMADA                                       ...   \n",
      "17  NAVSARI                                       ...   \n",
      "18  PANCH MAHALS                                  ...   \n",
      "19  PATAN                                         ...   \n",
      "20  PORBANDAR                                     ...   \n",
      "21  RAJKOT                                        ...   \n",
      "22  SABAR KANTHA                                  ...   \n",
      "23  SURAT                                         ...   \n",
      "24  SURENDRANAGAR                                 ...   \n",
      "25  TAPI                                          ...   \n",
      "26  THE DANGS                                     ...   \n",
      "27  VADODARA                                      ...   \n",
      "28  VALSAD                                        ...   \n",
      "\n",
      "   Total Schools - Government                  Unnamed: 2  \\\n",
      "0                         NaN                         NaN   \n",
      "1                     Primary  Primary with Upper primary   \n",
      "2                    Schgovt1                    Schgovt2   \n",
      "3                         197                        1173   \n",
      "4                          48                         754   \n",
      "5                         353                         710   \n",
      "6                         981                        1366   \n",
      "7                         240                         696   \n",
      "8                         105                        1082   \n",
      "9                         808                         858   \n",
      "10                        104                         539   \n",
      "11                        155                        1271   \n",
      "12                        170                        1180   \n",
      "13                        165                        1534   \n",
      "14                        691                        1017   \n",
      "15                        140                         869   \n",
      "16                        264                         473   \n",
      "17                        272                         490   \n",
      "18                       1150                        1271   \n",
      "19                        158                         673   \n",
      "20                         34                         295   \n",
      "21                         58                        1380   \n",
      "22                        942                        1598   \n",
      "23                        568                         780   \n",
      "24                         99                         911   \n",
      "25                        481                         382   \n",
      "26                        259                         140   \n",
      "27                       1352                        1105   \n",
      "28                        470                         575   \n",
      "\n",
      "                                    Unnamed: 3          Unnamed: 4  \\\n",
      "0                                          NaN                 NaN   \n",
      "1   Primary with Upper Primary sec/higher sec.  Upper Primary Only   \n",
      "2                                     Schgovt3            Schgovt4   \n",
      "3                                            0                  27   \n",
      "4                                            0                   1   \n",
      "5                                            0                   0   \n",
      "6                                            0                   4   \n",
      "7                                            0                  13   \n",
      "8                                            0                  10   \n",
      "9                                            0                   4   \n",
      "10                                           0                   0   \n",
      "11                                           0                   0   \n",
      "12                                           0                   4   \n",
      "13                                           5                   0   \n",
      "14                                           0                   2   \n",
      "15                                           0                   0   \n",
      "16                                           0                   0   \n",
      "17                                           0                   3   \n",
      "18                                           0                   7   \n",
      "19                                           0                   3   \n",
      "20                                           0                   1   \n",
      "21                                           0                   1   \n",
      "22                                           1                   3   \n",
      "23                                           0                   3   \n",
      "24                                           0                   3   \n",
      "25                                           0                   3   \n",
      "26                                           0                   1   \n",
      "27                                           0                   6   \n",
      "28                                           0                   3   \n",
      "\n",
      "                             Unnamed: 5 Total Schools - Private  \\\n",
      "0                                   NaN                     NaN   \n",
      "1   Upper Primary with sec./higher sec.                 Primary   \n",
      "2                              Schgovt5                 Schpvt1   \n",
      "3                                     0                      47   \n",
      "4                                     0                      21   \n",
      "5                                     0                      62   \n",
      "6                                     0                      38   \n",
      "7                                     0                      29   \n",
      "8                                     0                      28   \n",
      "9                                     0                      21   \n",
      "10                                    0                      21   \n",
      "11                                    0                      24   \n",
      "12                                    0                      80   \n",
      "13                                    1                      36   \n",
      "14                                    0                      47   \n",
      "15                                    0                      26   \n",
      "16                                    0                       3   \n",
      "17                                    0                      17   \n",
      "18                                    0                      53   \n",
      "19                                    0                      14   \n",
      "20                                    0                      19   \n",
      "21                                    0                      42   \n",
      "22                                    1                      83   \n",
      "23                                    0                      51   \n",
      "24                                    0                      17   \n",
      "25                                    0                      10   \n",
      "26                                    0                       7   \n",
      "27                                    0                      26   \n",
      "28                                    0                      19   \n",
      "\n",
      "                    Unnamed: 7                                  Unnamed: 8  \\\n",
      "0                          NaN                                         NaN   \n",
      "1   Primary with Upper primary  Primary with Upper Primary sec/higher sec.   \n",
      "2                      Schpvt2                                     Schpvt3   \n",
      "3                          982                                           0   \n",
      "4                          184                                           0   \n",
      "5                          145                                          22   \n",
      "6                          187                                           0   \n",
      "7                          204                                           0   \n",
      "8                          251                                           0   \n",
      "9                           98                                           0   \n",
      "10                         184                                           0   \n",
      "11                         196                                           1   \n",
      "12                         649                                           0   \n",
      "13                         173                                          30   \n",
      "14                         175                                           0   \n",
      "15                         169                                           0   \n",
      "16                          25                                           0   \n",
      "17                          95                                           0   \n",
      "18                         110                                           0   \n",
      "19                          64                                           0   \n",
      "20                          89                                           0   \n",
      "21                         719                                           0   \n",
      "22                         188                                          84   \n",
      "23                         630                                           0   \n",
      "24                         156                                           0   \n",
      "25                          19                                           0   \n",
      "26                          11                                           0   \n",
      "27                         419                                           0   \n",
      "28                         133                                           0   \n",
      "\n",
      "            Unnamed: 9  ... Number of Schools with Electricity   \\\n",
      "0                  NaN  ...                                 NaN   \n",
      "1   Upper Primary Only  ...                             Primary   \n",
      "2              Schpvt4  ...                       Electric Sch1   \n",
      "3                   13  ...                                 240   \n",
      "4                    3  ...                                  66   \n",
      "5                   30  ...                                 415   \n",
      "6                    4  ...                                 969   \n",
      "7                    0  ...                                 261   \n",
      "8                    2  ...                                 133   \n",
      "9                    0  ...                                 753   \n",
      "10                  28  ...                                 125   \n",
      "11                   6  ...                                 176   \n",
      "12                  12  ...                                 237   \n",
      "13                   6  ...                                 186   \n",
      "14                   3  ...                                 735   \n",
      "15                  26  ...                                 166   \n",
      "16                   4  ...                                 267   \n",
      "17                   9  ...                                 289   \n",
      "18                  22  ...                                1193   \n",
      "19                   5  ...                                 172   \n",
      "20                   0  ...                                  47   \n",
      "21                   2  ...                                  88   \n",
      "22                   1  ...                                1019   \n",
      "23                   7  ...                                 615   \n",
      "24                   3  ...                                 103   \n",
      "25                   1  ...                                 484   \n",
      "26                   0  ...                                 264   \n",
      "27                   4  ...                                1368   \n",
      "28                  11  ...                                 465   \n",
      "\n",
      "                   Unnamed: 94                                 Unnamed: 95  \\\n",
      "0                          NaN                                         NaN   \n",
      "1   Primary with Upper primary  Primary with Upper Primary sec/higher sec.   \n",
      "2                Electric Sch2                               Electric Sch3   \n",
      "3                         2143                                           0   \n",
      "4                          930                                           0   \n",
      "5                          854                                          22   \n",
      "6                         1546                                           0   \n",
      "7                          895                                           0   \n",
      "8                         1325                                           0   \n",
      "9                          926                                           0   \n",
      "10                         723                                           0   \n",
      "11                        1452                                           1   \n",
      "12                        1814                                           0   \n",
      "13                        1688                                          35   \n",
      "14                        1192                                           0   \n",
      "15                        1036                                           0   \n",
      "16                         496                                           0   \n",
      "17                         585                                           0   \n",
      "18                        1377                                           0   \n",
      "19                         737                                           0   \n",
      "20                         381                                           0   \n",
      "21                        2085                                           0   \n",
      "22                        1784                                          85   \n",
      "23                        1409                                           0   \n",
      "24                        1059                                           0   \n",
      "25                         392                                           0   \n",
      "26                         150                                           0   \n",
      "27                        1520                                           0   \n",
      "28                         702                                           0   \n",
      "\n",
      "           Unnamed: 96                          Unnamed: 97  \\\n",
      "0                  NaN                                  NaN   \n",
      "1   Upper Primary Only  Upper Primary with sec./higher sec.   \n",
      "2        Electric Sch4                        Electric Sch5   \n",
      "3                   40                                    0   \n",
      "4                    4                                    0   \n",
      "5                   30                                    3   \n",
      "6                    8                                    0   \n",
      "7                   12                                    0   \n",
      "8                   12                                    0   \n",
      "9                    4                                    0   \n",
      "10                  28                                    0   \n",
      "11                   6                                    0   \n",
      "12                  16                                    0   \n",
      "13                   6                                    3   \n",
      "14                   4                                    0   \n",
      "15                  26                                    0   \n",
      "16                   4                                    0   \n",
      "17                  12                                    0   \n",
      "18                  29                                    0   \n",
      "19                   8                                    0   \n",
      "20                   1                                    0   \n",
      "21                   3                                    0   \n",
      "22                   4                                    5   \n",
      "23                  10                                    0   \n",
      "24                   6                                    0   \n",
      "25                   4                                    0   \n",
      "26                   1                                    0   \n",
      "27                  10                                    0   \n",
      "28                  14                                    0   \n",
      "\n",
      "   Number of Schools with Computer                  Unnamed: 99  \\\n",
      "0                               NaN                         NaN   \n",
      "1                           Primary  Primary with Upper primary   \n",
      "2                     Computer Sch1               Computer Sch2   \n",
      "3                                82                        1698   \n",
      "4                                28                         585   \n",
      "5                                87                         571   \n",
      "6                               216                        1192   \n",
      "7                                73                         502   \n",
      "8                                31                         890   \n",
      "9                               136                         678   \n",
      "10                               49                         608   \n",
      "11                               36                         986   \n",
      "12                               71                        1256   \n",
      "13                               43                        1259   \n",
      "14                              107                        1143   \n",
      "15                               70                         964   \n",
      "16                               15                         149   \n",
      "17                               87                         570   \n",
      "18                              150                        1307   \n",
      "19                               52                         634   \n",
      "20                               11                         198   \n",
      "21                               39                        1877   \n",
      "22                              190                         817   \n",
      "23                              193                        1343   \n",
      "24                               27                        1040   \n",
      "25                               31                         376   \n",
      "26                               41                         133   \n",
      "27                              146                         773   \n",
      "28                               47                         638   \n",
      "\n",
      "                                  Unnamed: 100        Unnamed: 101  \\\n",
      "0                                          NaN                 NaN   \n",
      "1   Primary with Upper Primary sec/higher sec.  Upper Primary Only   \n",
      "2                                Computer Sch3       Computer Sch4   \n",
      "3                                            0                  28   \n",
      "4                                            0                   3   \n",
      "5                                           16                  24   \n",
      "6                                            0                   6   \n",
      "7                                            0                   4   \n",
      "8                                            0                   8   \n",
      "9                                            0                   3   \n",
      "10                                           0                  18   \n",
      "11                                           0                   5   \n",
      "12                                           0                  10   \n",
      "13                                          30                   4   \n",
      "14                                           0                   3   \n",
      "15                                           0                  13   \n",
      "16                                           0                   2   \n",
      "17                                           0                   8   \n",
      "18                                           0                  16   \n",
      "19                                           0                   6   \n",
      "20                                           0                   1   \n",
      "21                                           0                   3   \n",
      "22                                          62                   3   \n",
      "23                                           0                   9   \n",
      "24                                           0                   6   \n",
      "25                                           0                   3   \n",
      "26                                           0                   1   \n",
      "27                                           0                   7   \n",
      "28                                           0                  13   \n",
      "\n",
      "                           Unnamed: 102  \n",
      "0                                   NaN  \n",
      "1   Upper Primary with sec./higher sec.  \n",
      "2                         Computer Sch5  \n",
      "3                                     0  \n",
      "4                                     0  \n",
      "5                                     3  \n",
      "6                                     0  \n",
      "7                                     0  \n",
      "8                                     0  \n",
      "9                                     0  \n",
      "10                                    0  \n",
      "11                                    0  \n",
      "12                                    0  \n",
      "13                                    3  \n",
      "14                                    0  \n",
      "15                                    0  \n",
      "16                                    0  \n",
      "17                                    0  \n",
      "18                                    0  \n",
      "19                                    0  \n",
      "20                                    0  \n",
      "21                                    0  \n",
      "22                                    5  \n",
      "23                                    0  \n",
      "24                                    0  \n",
      "25                                    0  \n",
      "26                                    0  \n",
      "27                                    0  \n",
      "28                                    0  \n",
      "\n",
      "[29 rows x 103 columns]\n"
     ]
    }
   ],
   "source": [
    "import pandas as pd\n",
    "\n",
    "df = pd.read_excel('F:\\DA\\Takshil\\DRC_Raw_Data 2011-12.xlsx', delimiter = '\\t')\n",
    "print(df)"
   ]
  },
  {
   "cell_type": "code",
   "execution_count": 6,
   "metadata": {},
   "outputs": [
    {
     "name": "stdout",
     "output_type": "stream",
     "text": [
      "Enter the year of data you want ( for eg: 2011-2012): 2011-2012\n",
      "2011-2012\n"
     ]
    }
   ],
   "source": [
    "data  = input(\"Enter the year of data you want ( for eg: 2011-2012): \")\n",
    "print(da"
   ]
  },
  {
   "cell_type": "code",
   "execution_count": 8,
   "metadata": {},
   "outputs": [
    {
     "name": "stdout",
     "output_type": "stream",
     "text": [
      "                                        District Name  \\\n",
      "0                                                 NaN   \n",
      "1                                                 NaN   \n",
      "2                                                 NaN   \n",
      "3   AHMADABAD                                     ...   \n",
      "4   AMRELI                                        ...   \n",
      "5   ANAND                                         ...   \n",
      "6   BANAS KANTHA                                  ...   \n",
      "7   BHARUCH                                       ...   \n",
      "8   BHAVNAGAR                                     ...   \n",
      "9   DOHAD                                         ...   \n",
      "10  GANDHINAGAR                                   ...   \n",
      "11  JAMNAGAR                                      ...   \n",
      "12  JUNAGADH                                      ...   \n",
      "13  KACHCHH                                       ...   \n",
      "14  KHEDA                                         ...   \n",
      "15  MAHESANA                                      ...   \n",
      "16  NARMADA                                       ...   \n",
      "17  NAVSARI                                       ...   \n",
      "18  PANCH MAHALS                                  ...   \n",
      "19  PATAN                                         ...   \n",
      "20  PORBANDAR                                     ...   \n",
      "21  RAJKOT                                        ...   \n",
      "22  SABAR KANTHA                                  ...   \n",
      "23  SURAT                                         ...   \n",
      "24  SURENDRANAGAR                                 ...   \n",
      "25  TAPI                                          ...   \n",
      "26  THE DANGS                                     ...   \n",
      "27  VADODARA                                      ...   \n",
      "28  VALSAD                                        ...   \n",
      "\n",
      "   Total Schools - Government                  Unnamed: 2  \\\n",
      "0                         NaN                         NaN   \n",
      "1                     Primary  Primary with Upper primary   \n",
      "2                    Schgovt1                    Schgovt2   \n",
      "3                         197                        1173   \n",
      "4                          48                         754   \n",
      "5                         353                         710   \n",
      "6                         981                        1366   \n",
      "7                         240                         696   \n",
      "8                         105                        1082   \n",
      "9                         808                         858   \n",
      "10                        104                         539   \n",
      "11                        155                        1271   \n",
      "12                        170                        1180   \n",
      "13                        165                        1534   \n",
      "14                        691                        1017   \n",
      "15                        140                         869   \n",
      "16                        264                         473   \n",
      "17                        272                         490   \n",
      "18                       1150                        1271   \n",
      "19                        158                         673   \n",
      "20                         34                         295   \n",
      "21                         58                        1380   \n",
      "22                        942                        1598   \n",
      "23                        568                         780   \n",
      "24                         99                         911   \n",
      "25                        481                         382   \n",
      "26                        259                         140   \n",
      "27                       1352                        1105   \n",
      "28                        470                         575   \n",
      "\n",
      "                                    Unnamed: 3          Unnamed: 4  \\\n",
      "0                                          NaN                 NaN   \n",
      "1   Primary with Upper Primary sec/higher sec.  Upper Primary Only   \n",
      "2                                     Schgovt3            Schgovt4   \n",
      "3                                            0                  27   \n",
      "4                                            0                   1   \n",
      "5                                            0                   0   \n",
      "6                                            0                   4   \n",
      "7                                            0                  13   \n",
      "8                                            0                  10   \n",
      "9                                            0                   4   \n",
      "10                                           0                   0   \n",
      "11                                           0                   0   \n",
      "12                                           0                   4   \n",
      "13                                           5                   0   \n",
      "14                                           0                   2   \n",
      "15                                           0                   0   \n",
      "16                                           0                   0   \n",
      "17                                           0                   3   \n",
      "18                                           0                   7   \n",
      "19                                           0                   3   \n",
      "20                                           0                   1   \n",
      "21                                           0                   1   \n",
      "22                                           1                   3   \n",
      "23                                           0                   3   \n",
      "24                                           0                   3   \n",
      "25                                           0                   3   \n",
      "26                                           0                   1   \n",
      "27                                           0                   6   \n",
      "28                                           0                   3   \n",
      "\n",
      "                             Unnamed: 5 Total Schools - Private  \\\n",
      "0                                   NaN                     NaN   \n",
      "1   Upper Primary with sec./higher sec.                 Primary   \n",
      "2                              Schgovt5                 Schpvt1   \n",
      "3                                     0                      47   \n",
      "4                                     0                      21   \n",
      "5                                     0                      62   \n",
      "6                                     0                      38   \n",
      "7                                     0                      29   \n",
      "8                                     0                      28   \n",
      "9                                     0                      21   \n",
      "10                                    0                      21   \n",
      "11                                    0                      24   \n",
      "12                                    0                      80   \n",
      "13                                    1                      36   \n",
      "14                                    0                      47   \n",
      "15                                    0                      26   \n",
      "16                                    0                       3   \n",
      "17                                    0                      17   \n",
      "18                                    0                      53   \n",
      "19                                    0                      14   \n",
      "20                                    0                      19   \n",
      "21                                    0                      42   \n",
      "22                                    1                      83   \n",
      "23                                    0                      51   \n",
      "24                                    0                      17   \n",
      "25                                    0                      10   \n",
      "26                                    0                       7   \n",
      "27                                    0                      26   \n",
      "28                                    0                      19   \n",
      "\n",
      "                    Unnamed: 7                                  Unnamed: 8  \\\n",
      "0                          NaN                                         NaN   \n",
      "1   Primary with Upper primary  Primary with Upper Primary sec/higher sec.   \n",
      "2                      Schpvt2                                     Schpvt3   \n",
      "3                          982                                           0   \n",
      "4                          184                                           0   \n",
      "5                          145                                          22   \n",
      "6                          187                                           0   \n",
      "7                          204                                           0   \n",
      "8                          251                                           0   \n",
      "9                           98                                           0   \n",
      "10                         184                                           0   \n",
      "11                         196                                           1   \n",
      "12                         649                                           0   \n",
      "13                         173                                          30   \n",
      "14                         175                                           0   \n",
      "15                         169                                           0   \n",
      "16                          25                                           0   \n",
      "17                          95                                           0   \n",
      "18                         110                                           0   \n",
      "19                          64                                           0   \n",
      "20                          89                                           0   \n",
      "21                         719                                           0   \n",
      "22                         188                                          84   \n",
      "23                         630                                           0   \n",
      "24                         156                                           0   \n",
      "25                          19                                           0   \n",
      "26                          11                                           0   \n",
      "27                         419                                           0   \n",
      "28                         133                                           0   \n",
      "\n",
      "            Unnamed: 9  ... Number of Schools with Electricity   \\\n",
      "0                  NaN  ...                                 NaN   \n",
      "1   Upper Primary Only  ...                             Primary   \n",
      "2              Schpvt4  ...                       Electric Sch1   \n",
      "3                   13  ...                                 240   \n",
      "4                    3  ...                                  66   \n",
      "5                   30  ...                                 415   \n",
      "6                    4  ...                                 969   \n",
      "7                    0  ...                                 261   \n",
      "8                    2  ...                                 133   \n",
      "9                    0  ...                                 753   \n",
      "10                  28  ...                                 125   \n",
      "11                   6  ...                                 176   \n",
      "12                  12  ...                                 237   \n",
      "13                   6  ...                                 186   \n",
      "14                   3  ...                                 735   \n",
      "15                  26  ...                                 166   \n",
      "16                   4  ...                                 267   \n",
      "17                   9  ...                                 289   \n",
      "18                  22  ...                                1193   \n",
      "19                   5  ...                                 172   \n",
      "20                   0  ...                                  47   \n",
      "21                   2  ...                                  88   \n",
      "22                   1  ...                                1019   \n",
      "23                   7  ...                                 615   \n",
      "24                   3  ...                                 103   \n",
      "25                   1  ...                                 484   \n",
      "26                   0  ...                                 264   \n",
      "27                   4  ...                                1368   \n",
      "28                  11  ...                                 465   \n",
      "\n",
      "                   Unnamed: 94                                 Unnamed: 95  \\\n",
      "0                          NaN                                         NaN   \n",
      "1   Primary with Upper primary  Primary with Upper Primary sec/higher sec.   \n",
      "2                Electric Sch2                               Electric Sch3   \n",
      "3                         2143                                           0   \n",
      "4                          930                                           0   \n",
      "5                          854                                          22   \n",
      "6                         1546                                           0   \n",
      "7                          895                                           0   \n",
      "8                         1325                                           0   \n",
      "9                          926                                           0   \n",
      "10                         723                                           0   \n",
      "11                        1452                                           1   \n",
      "12                        1814                                           0   \n",
      "13                        1688                                          35   \n",
      "14                        1192                                           0   \n",
      "15                        1036                                           0   \n",
      "16                         496                                           0   \n",
      "17                         585                                           0   \n",
      "18                        1377                                           0   \n",
      "19                         737                                           0   \n",
      "20                         381                                           0   \n",
      "21                        2085                                           0   \n",
      "22                        1784                                          85   \n",
      "23                        1409                                           0   \n",
      "24                        1059                                           0   \n",
      "25                         392                                           0   \n",
      "26                         150                                           0   \n",
      "27                        1520                                           0   \n",
      "28                         702                                           0   \n",
      "\n",
      "           Unnamed: 96                          Unnamed: 97  \\\n",
      "0                  NaN                                  NaN   \n",
      "1   Upper Primary Only  Upper Primary with sec./higher sec.   \n",
      "2        Electric Sch4                        Electric Sch5   \n",
      "3                   40                                    0   \n",
      "4                    4                                    0   \n",
      "5                   30                                    3   \n",
      "6                    8                                    0   \n",
      "7                   12                                    0   \n",
      "8                   12                                    0   \n",
      "9                    4                                    0   \n",
      "10                  28                                    0   \n",
      "11                   6                                    0   \n",
      "12                  16                                    0   \n",
      "13                   6                                    3   \n",
      "14                   4                                    0   \n",
      "15                  26                                    0   \n",
      "16                   4                                    0   \n",
      "17                  12                                    0   \n",
      "18                  29                                    0   \n",
      "19                   8                                    0   \n",
      "20                   1                                    0   \n",
      "21                   3                                    0   \n",
      "22                   4                                    5   \n",
      "23                  10                                    0   \n",
      "24                   6                                    0   \n",
      "25                   4                                    0   \n",
      "26                   1                                    0   \n",
      "27                  10                                    0   \n",
      "28                  14                                    0   \n",
      "\n",
      "   Number of Schools with Computer                  Unnamed: 99  \\\n",
      "0                               NaN                         NaN   \n",
      "1                           Primary  Primary with Upper primary   \n",
      "2                     Computer Sch1               Computer Sch2   \n",
      "3                                82                        1698   \n",
      "4                                28                         585   \n",
      "5                                87                         571   \n",
      "6                               216                        1192   \n",
      "7                                73                         502   \n",
      "8                                31                         890   \n",
      "9                               136                         678   \n",
      "10                               49                         608   \n",
      "11                               36                         986   \n",
      "12                               71                        1256   \n",
      "13                               43                        1259   \n",
      "14                              107                        1143   \n",
      "15                               70                         964   \n",
      "16                               15                         149   \n",
      "17                               87                         570   \n",
      "18                              150                        1307   \n",
      "19                               52                         634   \n",
      "20                               11                         198   \n",
      "21                               39                        1877   \n",
      "22                              190                         817   \n",
      "23                              193                        1343   \n",
      "24                               27                        1040   \n",
      "25                               31                         376   \n",
      "26                               41                         133   \n",
      "27                              146                         773   \n",
      "28                               47                         638   \n",
      "\n",
      "                                  Unnamed: 100        Unnamed: 101  \\\n",
      "0                                          NaN                 NaN   \n",
      "1   Primary with Upper Primary sec/higher sec.  Upper Primary Only   \n",
      "2                                Computer Sch3       Computer Sch4   \n",
      "3                                            0                  28   \n",
      "4                                            0                   3   \n",
      "5                                           16                  24   \n",
      "6                                            0                   6   \n",
      "7                                            0                   4   \n",
      "8                                            0                   8   \n",
      "9                                            0                   3   \n",
      "10                                           0                  18   \n",
      "11                                           0                   5   \n",
      "12                                           0                  10   \n",
      "13                                          30                   4   \n",
      "14                                           0                   3   \n",
      "15                                           0                  13   \n",
      "16                                           0                   2   \n",
      "17                                           0                   8   \n",
      "18                                           0                  16   \n",
      "19                                           0                   6   \n",
      "20                                           0                   1   \n",
      "21                                           0                   3   \n",
      "22                                          62                   3   \n",
      "23                                           0                   9   \n",
      "24                                           0                   6   \n",
      "25                                           0                   3   \n",
      "26                                           0                   1   \n",
      "27                                           0                   7   \n",
      "28                                           0                  13   \n",
      "\n",
      "                           Unnamed: 102  \n",
      "0                                   NaN  \n",
      "1   Upper Primary with sec./higher sec.  \n",
      "2                         Computer Sch5  \n",
      "3                                     0  \n",
      "4                                     0  \n",
      "5                                     3  \n",
      "6                                     0  \n",
      "7                                     0  \n",
      "8                                     0  \n",
      "9                                     0  \n",
      "10                                    0  \n",
      "11                                    0  \n",
      "12                                    0  \n",
      "13                                    3  \n",
      "14                                    0  \n",
      "15                                    0  \n",
      "16                                    0  \n",
      "17                                    0  \n",
      "18                                    0  \n",
      "19                                    0  \n",
      "20                                    0  \n",
      "21                                    0  \n",
      "22                                    5  \n",
      "23                                    0  \n",
      "24                                    0  \n",
      "25                                    0  \n",
      "26                                    0  \n",
      "27                                    0  \n",
      "28                                    0  \n",
      "\n",
      "[29 rows x 103 columns]\n"
     ]
    }
   ],
   "source": [
    "import pandas as pd\n",
    "\n",
    "df = pd.read_excel('F:\\DA\\Takshil\\DRC_Raw_Data 2011-12.xlsx', inplace = True)\n",
    "print(df)"
   ]
  },
  {
   "cell_type": "code",
   "execution_count": 16,
   "metadata": {},
   "outputs": [
    {
     "name": "stdout",
     "output_type": "stream",
     "text": [
      "   country    capital    area  population\n",
      "0   Brazil     Moscow   8.516      200.40\n",
      "1  America  New Dehli  17.100      143.50\n",
      "2   Russia    Beijing   3.286     1252.00\n",
      "3    India   Pretoria   9.597     1357.00\n",
      "4    China   Brasilia   1.221       52.98\n"
     ]
    }
   ],
   "source": [
    "#pandas, there are several ways to create a dataframe, one way is to use a dictionary. for eg\n",
    "dict = {\"country\" : [\"Brazil\",\"America\",\"Russia\",\"India\",\"China\"],\n",
    "        \"capital\" : [\"Moscow\",\"New Dehli\",\"Beijing\",\"Pretoria\",\"Brasilia\"],\n",
    "        \"area\" : [8.516, 17.10, 3.286, 9.597, 1.221],\n",
    "        \"population\" : [200.4, 143.5, 1252, 1357, 52.98]\n",
    "       }\n",
    "import pandas as pd\n",
    "brics = pd.DataFrame(dict)\n",
    "print(brics)"
   ]
  },
  {
   "cell_type": "code",
   "execution_count": 19,
   "metadata": {},
   "outputs": [
    {
     "data": {
      "text/plain": [
       "<pandas.plotting._core.FramePlotMethods object at 0x00000243230B9080>"
      ]
     },
     "execution_count": 19,
     "metadata": {},
     "output_type": "execute_result"
    }
   ],
   "source": [
    "import pandas as pd \n",
    "import numpy as np\n",
    "import datetime \n",
    "import matplotlib as mpl\n",
    "import matplotlib.pyplot as plt\n",
    "%matplotlib inline \n",
    "df = pd.read_excel('F:\\DA\\Takshil\\DRC_Raw_Data 2012-13.xlsx')\n",
    "#d_f = pd.DataFrame({Basic-Data: BD, Enrollment: EN, Teachers: TC})\n",
    "df.plot"
   ]
  },
  {
   "cell_type": "code",
   "execution_count": 1,
   "metadata": {},
   "outputs": [
    {
     "ename": "FileNotFoundError",
     "evalue": "[Errno 2] No such file or directory: '2012-13'",
     "output_type": "error",
     "traceback": [
      "\u001b[1;31m---------------------------------------------------------------------------\u001b[0m",
      "\u001b[1;31mFileNotFoundError\u001b[0m                         Traceback (most recent call last)",
      "\u001b[1;32m<ipython-input-1-6be22311c95a>\u001b[0m in \u001b[0;36m<module>\u001b[1;34m\u001b[0m\n\u001b[0;32m      1\u001b[0m \u001b[1;32mimport\u001b[0m \u001b[0mpandas\u001b[0m \u001b[1;32mas\u001b[0m \u001b[0mpd\u001b[0m\u001b[1;33m\u001b[0m\u001b[1;33m\u001b[0m\u001b[0m\n\u001b[0;32m      2\u001b[0m \u001b[1;32mimport\u001b[0m \u001b[0mmatplotlib\u001b[0m\u001b[1;33m.\u001b[0m\u001b[0mpyplot\u001b[0m \u001b[1;32mas\u001b[0m \u001b[0mplt\u001b[0m\u001b[1;33m\u001b[0m\u001b[1;33m\u001b[0m\u001b[0m\n\u001b[1;32m----> 3\u001b[1;33m \u001b[0mdf\u001b[0m \u001b[1;33m=\u001b[0m \u001b[0mpd\u001b[0m\u001b[1;33m.\u001b[0m\u001b[0mread_excel\u001b[0m\u001b[1;33m(\u001b[0m\u001b[1;34m'2012-13'\u001b[0m\u001b[1;33m)\u001b[0m\u001b[1;33m\u001b[0m\u001b[1;33m\u001b[0m\u001b[0m\n\u001b[0m\u001b[0;32m      4\u001b[0m \u001b[0mdf\u001b[0m\u001b[1;33m.\u001b[0m\u001b[0mplot\u001b[0m\u001b[1;33m(\u001b[0m\u001b[1;33m)\u001b[0m\u001b[1;33m\u001b[0m\u001b[1;33m\u001b[0m\u001b[0m\n\u001b[0;32m      5\u001b[0m \u001b[0mplt\u001b[0m\u001b[1;33m.\u001b[0m\u001b[0mlegend\u001b[0m\u001b[1;33m(\u001b[0m\u001b[1;33m)\u001b[0m\u001b[1;33m\u001b[0m\u001b[1;33m\u001b[0m\u001b[0m\n",
      "\u001b[1;32mG:\\Anaconda\\Anaconda Installation\\lib\\site-packages\\pandas\\util\\_decorators.py\u001b[0m in \u001b[0;36mwrapper\u001b[1;34m(*args, **kwargs)\u001b[0m\n\u001b[0;32m    186\u001b[0m                 \u001b[1;32melse\u001b[0m\u001b[1;33m:\u001b[0m\u001b[1;33m\u001b[0m\u001b[1;33m\u001b[0m\u001b[0m\n\u001b[0;32m    187\u001b[0m                     \u001b[0mkwargs\u001b[0m\u001b[1;33m[\u001b[0m\u001b[0mnew_arg_name\u001b[0m\u001b[1;33m]\u001b[0m \u001b[1;33m=\u001b[0m \u001b[0mnew_arg_value\u001b[0m\u001b[1;33m\u001b[0m\u001b[1;33m\u001b[0m\u001b[0m\n\u001b[1;32m--> 188\u001b[1;33m             \u001b[1;32mreturn\u001b[0m \u001b[0mfunc\u001b[0m\u001b[1;33m(\u001b[0m\u001b[1;33m*\u001b[0m\u001b[0margs\u001b[0m\u001b[1;33m,\u001b[0m \u001b[1;33m**\u001b[0m\u001b[0mkwargs\u001b[0m\u001b[1;33m)\u001b[0m\u001b[1;33m\u001b[0m\u001b[1;33m\u001b[0m\u001b[0m\n\u001b[0m\u001b[0;32m    189\u001b[0m         \u001b[1;32mreturn\u001b[0m \u001b[0mwrapper\u001b[0m\u001b[1;33m\u001b[0m\u001b[1;33m\u001b[0m\u001b[0m\n\u001b[0;32m    190\u001b[0m     \u001b[1;32mreturn\u001b[0m \u001b[0m_deprecate_kwarg\u001b[0m\u001b[1;33m\u001b[0m\u001b[1;33m\u001b[0m\u001b[0m\n",
      "\u001b[1;32mG:\\Anaconda\\Anaconda Installation\\lib\\site-packages\\pandas\\util\\_decorators.py\u001b[0m in \u001b[0;36mwrapper\u001b[1;34m(*args, **kwargs)\u001b[0m\n\u001b[0;32m    186\u001b[0m                 \u001b[1;32melse\u001b[0m\u001b[1;33m:\u001b[0m\u001b[1;33m\u001b[0m\u001b[1;33m\u001b[0m\u001b[0m\n\u001b[0;32m    187\u001b[0m                     \u001b[0mkwargs\u001b[0m\u001b[1;33m[\u001b[0m\u001b[0mnew_arg_name\u001b[0m\u001b[1;33m]\u001b[0m \u001b[1;33m=\u001b[0m \u001b[0mnew_arg_value\u001b[0m\u001b[1;33m\u001b[0m\u001b[1;33m\u001b[0m\u001b[0m\n\u001b[1;32m--> 188\u001b[1;33m             \u001b[1;32mreturn\u001b[0m \u001b[0mfunc\u001b[0m\u001b[1;33m(\u001b[0m\u001b[1;33m*\u001b[0m\u001b[0margs\u001b[0m\u001b[1;33m,\u001b[0m \u001b[1;33m**\u001b[0m\u001b[0mkwargs\u001b[0m\u001b[1;33m)\u001b[0m\u001b[1;33m\u001b[0m\u001b[1;33m\u001b[0m\u001b[0m\n\u001b[0m\u001b[0;32m    189\u001b[0m         \u001b[1;32mreturn\u001b[0m \u001b[0mwrapper\u001b[0m\u001b[1;33m\u001b[0m\u001b[1;33m\u001b[0m\u001b[0m\n\u001b[0;32m    190\u001b[0m     \u001b[1;32mreturn\u001b[0m \u001b[0m_deprecate_kwarg\u001b[0m\u001b[1;33m\u001b[0m\u001b[1;33m\u001b[0m\u001b[0m\n",
      "\u001b[1;32mG:\\Anaconda\\Anaconda Installation\\lib\\site-packages\\pandas\\io\\excel.py\u001b[0m in \u001b[0;36mread_excel\u001b[1;34m(io, sheet_name, header, names, index_col, parse_cols, usecols, squeeze, dtype, engine, converters, true_values, false_values, skiprows, nrows, na_values, keep_default_na, verbose, parse_dates, date_parser, thousands, comment, skip_footer, skipfooter, convert_float, mangle_dupe_cols, **kwds)\u001b[0m\n\u001b[0;32m    348\u001b[0m \u001b[1;33m\u001b[0m\u001b[0m\n\u001b[0;32m    349\u001b[0m     \u001b[1;32mif\u001b[0m \u001b[1;32mnot\u001b[0m \u001b[0misinstance\u001b[0m\u001b[1;33m(\u001b[0m\u001b[0mio\u001b[0m\u001b[1;33m,\u001b[0m \u001b[0mExcelFile\u001b[0m\u001b[1;33m)\u001b[0m\u001b[1;33m:\u001b[0m\u001b[1;33m\u001b[0m\u001b[1;33m\u001b[0m\u001b[0m\n\u001b[1;32m--> 350\u001b[1;33m         \u001b[0mio\u001b[0m \u001b[1;33m=\u001b[0m \u001b[0mExcelFile\u001b[0m\u001b[1;33m(\u001b[0m\u001b[0mio\u001b[0m\u001b[1;33m,\u001b[0m \u001b[0mengine\u001b[0m\u001b[1;33m=\u001b[0m\u001b[0mengine\u001b[0m\u001b[1;33m)\u001b[0m\u001b[1;33m\u001b[0m\u001b[1;33m\u001b[0m\u001b[0m\n\u001b[0m\u001b[0;32m    351\u001b[0m \u001b[1;33m\u001b[0m\u001b[0m\n\u001b[0;32m    352\u001b[0m     return io.parse(\n",
      "\u001b[1;32mG:\\Anaconda\\Anaconda Installation\\lib\\site-packages\\pandas\\io\\excel.py\u001b[0m in \u001b[0;36m__init__\u001b[1;34m(self, io, engine)\u001b[0m\n\u001b[0;32m    651\u001b[0m         \u001b[0mself\u001b[0m\u001b[1;33m.\u001b[0m\u001b[0m_io\u001b[0m \u001b[1;33m=\u001b[0m \u001b[0m_stringify_path\u001b[0m\u001b[1;33m(\u001b[0m\u001b[0mio\u001b[0m\u001b[1;33m)\u001b[0m\u001b[1;33m\u001b[0m\u001b[1;33m\u001b[0m\u001b[0m\n\u001b[0;32m    652\u001b[0m \u001b[1;33m\u001b[0m\u001b[0m\n\u001b[1;32m--> 653\u001b[1;33m         \u001b[0mself\u001b[0m\u001b[1;33m.\u001b[0m\u001b[0m_reader\u001b[0m \u001b[1;33m=\u001b[0m \u001b[0mself\u001b[0m\u001b[1;33m.\u001b[0m\u001b[0m_engines\u001b[0m\u001b[1;33m[\u001b[0m\u001b[0mengine\u001b[0m\u001b[1;33m]\u001b[0m\u001b[1;33m(\u001b[0m\u001b[0mself\u001b[0m\u001b[1;33m.\u001b[0m\u001b[0m_io\u001b[0m\u001b[1;33m)\u001b[0m\u001b[1;33m\u001b[0m\u001b[1;33m\u001b[0m\u001b[0m\n\u001b[0m\u001b[0;32m    654\u001b[0m \u001b[1;33m\u001b[0m\u001b[0m\n\u001b[0;32m    655\u001b[0m     \u001b[1;32mdef\u001b[0m \u001b[0m__fspath__\u001b[0m\u001b[1;33m(\u001b[0m\u001b[0mself\u001b[0m\u001b[1;33m)\u001b[0m\u001b[1;33m:\u001b[0m\u001b[1;33m\u001b[0m\u001b[1;33m\u001b[0m\u001b[0m\n",
      "\u001b[1;32mG:\\Anaconda\\Anaconda Installation\\lib\\site-packages\\pandas\\io\\excel.py\u001b[0m in \u001b[0;36m__init__\u001b[1;34m(self, filepath_or_buffer)\u001b[0m\n\u001b[0;32m    422\u001b[0m             \u001b[0mself\u001b[0m\u001b[1;33m.\u001b[0m\u001b[0mbook\u001b[0m \u001b[1;33m=\u001b[0m \u001b[0mxlrd\u001b[0m\u001b[1;33m.\u001b[0m\u001b[0mopen_workbook\u001b[0m\u001b[1;33m(\u001b[0m\u001b[0mfile_contents\u001b[0m\u001b[1;33m=\u001b[0m\u001b[0mdata\u001b[0m\u001b[1;33m)\u001b[0m\u001b[1;33m\u001b[0m\u001b[1;33m\u001b[0m\u001b[0m\n\u001b[0;32m    423\u001b[0m         \u001b[1;32melif\u001b[0m \u001b[0misinstance\u001b[0m\u001b[1;33m(\u001b[0m\u001b[0mfilepath_or_buffer\u001b[0m\u001b[1;33m,\u001b[0m \u001b[0mcompat\u001b[0m\u001b[1;33m.\u001b[0m\u001b[0mstring_types\u001b[0m\u001b[1;33m)\u001b[0m\u001b[1;33m:\u001b[0m\u001b[1;33m\u001b[0m\u001b[1;33m\u001b[0m\u001b[0m\n\u001b[1;32m--> 424\u001b[1;33m             \u001b[0mself\u001b[0m\u001b[1;33m.\u001b[0m\u001b[0mbook\u001b[0m \u001b[1;33m=\u001b[0m \u001b[0mxlrd\u001b[0m\u001b[1;33m.\u001b[0m\u001b[0mopen_workbook\u001b[0m\u001b[1;33m(\u001b[0m\u001b[0mfilepath_or_buffer\u001b[0m\u001b[1;33m)\u001b[0m\u001b[1;33m\u001b[0m\u001b[1;33m\u001b[0m\u001b[0m\n\u001b[0m\u001b[0;32m    425\u001b[0m         \u001b[1;32melse\u001b[0m\u001b[1;33m:\u001b[0m\u001b[1;33m\u001b[0m\u001b[1;33m\u001b[0m\u001b[0m\n\u001b[0;32m    426\u001b[0m             raise ValueError('Must explicitly set engine if not passing in'\n",
      "\u001b[1;32mG:\\Anaconda\\Anaconda Installation\\lib\\site-packages\\xlrd\\__init__.py\u001b[0m in \u001b[0;36mopen_workbook\u001b[1;34m(filename, logfile, verbosity, use_mmap, file_contents, encoding_override, formatting_info, on_demand, ragged_rows)\u001b[0m\n\u001b[0;32m    109\u001b[0m     \u001b[1;32melse\u001b[0m\u001b[1;33m:\u001b[0m\u001b[1;33m\u001b[0m\u001b[1;33m\u001b[0m\u001b[0m\n\u001b[0;32m    110\u001b[0m         \u001b[0mfilename\u001b[0m \u001b[1;33m=\u001b[0m \u001b[0mos\u001b[0m\u001b[1;33m.\u001b[0m\u001b[0mpath\u001b[0m\u001b[1;33m.\u001b[0m\u001b[0mexpanduser\u001b[0m\u001b[1;33m(\u001b[0m\u001b[0mfilename\u001b[0m\u001b[1;33m)\u001b[0m\u001b[1;33m\u001b[0m\u001b[1;33m\u001b[0m\u001b[0m\n\u001b[1;32m--> 111\u001b[1;33m         \u001b[1;32mwith\u001b[0m \u001b[0mopen\u001b[0m\u001b[1;33m(\u001b[0m\u001b[0mfilename\u001b[0m\u001b[1;33m,\u001b[0m \u001b[1;34m\"rb\"\u001b[0m\u001b[1;33m)\u001b[0m \u001b[1;32mas\u001b[0m \u001b[0mf\u001b[0m\u001b[1;33m:\u001b[0m\u001b[1;33m\u001b[0m\u001b[1;33m\u001b[0m\u001b[0m\n\u001b[0m\u001b[0;32m    112\u001b[0m             \u001b[0mpeek\u001b[0m \u001b[1;33m=\u001b[0m \u001b[0mf\u001b[0m\u001b[1;33m.\u001b[0m\u001b[0mread\u001b[0m\u001b[1;33m(\u001b[0m\u001b[0mpeeksz\u001b[0m\u001b[1;33m)\u001b[0m\u001b[1;33m\u001b[0m\u001b[1;33m\u001b[0m\u001b[0m\n\u001b[0;32m    113\u001b[0m     \u001b[1;32mif\u001b[0m \u001b[0mpeek\u001b[0m \u001b[1;33m==\u001b[0m \u001b[1;34mb\"PK\\x03\\x04\"\u001b[0m\u001b[1;33m:\u001b[0m \u001b[1;31m# a ZIP file\u001b[0m\u001b[1;33m\u001b[0m\u001b[1;33m\u001b[0m\u001b[0m\n",
      "\u001b[1;31mFileNotFoundError\u001b[0m: [Errno 2] No such file or directory: '2012-13'"
     ]
    }
   ],
   "source": [
    "import pandas as pd \n",
    "import matplotlib.pyplot as plt\n",
    "df = pd.read_excel('2012-13')\n",
    "df.plot()\n",
    "plt.legend()\n",
    "plt.show()\n",
    "%matplotlib inline \n",
    "plt.plot(df)"
   ]
  },
  {
   "cell_type": "code",
   "execution_count": 9,
   "metadata": {},
   "outputs": [
    {
     "ename": "FileNotFoundError",
     "evalue": "[Errno 2] No such file or directory: 'F:\\\\DA\\\\Takshil\\\\DRC_Raw_Data 2011-12 - Copy.xlsx'",
     "output_type": "error",
     "traceback": [
      "\u001b[1;31m---------------------------------------------------------------------------\u001b[0m",
      "\u001b[1;31mFileNotFoundError\u001b[0m                         Traceback (most recent call last)",
      "\u001b[1;32m<ipython-input-9-fe6557be72b5>\u001b[0m in \u001b[0;36m<module>\u001b[1;34m\u001b[0m\n\u001b[0;32m      1\u001b[0m \u001b[1;32mimport\u001b[0m \u001b[0mpandas\u001b[0m \u001b[1;32mas\u001b[0m \u001b[0mpd\u001b[0m\u001b[1;33m\u001b[0m\u001b[1;33m\u001b[0m\u001b[0m\n\u001b[0;32m      2\u001b[0m \u001b[1;32mimport\u001b[0m \u001b[0mmatplotlib\u001b[0m\u001b[1;33m.\u001b[0m\u001b[0mpyplot\u001b[0m \u001b[1;32mas\u001b[0m \u001b[0mplt\u001b[0m\u001b[1;33m\u001b[0m\u001b[1;33m\u001b[0m\u001b[0m\n\u001b[1;32m----> 3\u001b[1;33m \u001b[0mdf\u001b[0m \u001b[1;33m=\u001b[0m \u001b[0mpd\u001b[0m\u001b[1;33m.\u001b[0m\u001b[0mread_excel\u001b[0m\u001b[1;33m(\u001b[0m\u001b[1;34m'F:\\DA\\Takshil\\DRC_Raw_Data 2011-12 - Copy.xlsx'\u001b[0m\u001b[1;33m)\u001b[0m\u001b[1;33m\u001b[0m\u001b[1;33m\u001b[0m\u001b[0m\n\u001b[0m\u001b[0;32m      4\u001b[0m \u001b[0mdf\u001b[0m\u001b[1;33m.\u001b[0m\u001b[0mplot\u001b[0m\u001b[1;33m(\u001b[0m\u001b[1;33m)\u001b[0m\u001b[1;33m\u001b[0m\u001b[1;33m\u001b[0m\u001b[0m\n\u001b[0;32m      5\u001b[0m \u001b[0mplt\u001b[0m\u001b[1;33m.\u001b[0m\u001b[0mlegend\u001b[0m\u001b[1;33m(\u001b[0m\u001b[1;33m)\u001b[0m\u001b[1;33m\u001b[0m\u001b[1;33m\u001b[0m\u001b[0m\n",
      "\u001b[1;32mG:\\Anaconda\\Anaconda Installation\\lib\\site-packages\\pandas\\util\\_decorators.py\u001b[0m in \u001b[0;36mwrapper\u001b[1;34m(*args, **kwargs)\u001b[0m\n\u001b[0;32m    186\u001b[0m                 \u001b[1;32melse\u001b[0m\u001b[1;33m:\u001b[0m\u001b[1;33m\u001b[0m\u001b[1;33m\u001b[0m\u001b[0m\n\u001b[0;32m    187\u001b[0m                     \u001b[0mkwargs\u001b[0m\u001b[1;33m[\u001b[0m\u001b[0mnew_arg_name\u001b[0m\u001b[1;33m]\u001b[0m \u001b[1;33m=\u001b[0m \u001b[0mnew_arg_value\u001b[0m\u001b[1;33m\u001b[0m\u001b[1;33m\u001b[0m\u001b[0m\n\u001b[1;32m--> 188\u001b[1;33m             \u001b[1;32mreturn\u001b[0m \u001b[0mfunc\u001b[0m\u001b[1;33m(\u001b[0m\u001b[1;33m*\u001b[0m\u001b[0margs\u001b[0m\u001b[1;33m,\u001b[0m \u001b[1;33m**\u001b[0m\u001b[0mkwargs\u001b[0m\u001b[1;33m)\u001b[0m\u001b[1;33m\u001b[0m\u001b[1;33m\u001b[0m\u001b[0m\n\u001b[0m\u001b[0;32m    189\u001b[0m         \u001b[1;32mreturn\u001b[0m \u001b[0mwrapper\u001b[0m\u001b[1;33m\u001b[0m\u001b[1;33m\u001b[0m\u001b[0m\n\u001b[0;32m    190\u001b[0m     \u001b[1;32mreturn\u001b[0m \u001b[0m_deprecate_kwarg\u001b[0m\u001b[1;33m\u001b[0m\u001b[1;33m\u001b[0m\u001b[0m\n",
      "\u001b[1;32mG:\\Anaconda\\Anaconda Installation\\lib\\site-packages\\pandas\\util\\_decorators.py\u001b[0m in \u001b[0;36mwrapper\u001b[1;34m(*args, **kwargs)\u001b[0m\n\u001b[0;32m    186\u001b[0m                 \u001b[1;32melse\u001b[0m\u001b[1;33m:\u001b[0m\u001b[1;33m\u001b[0m\u001b[1;33m\u001b[0m\u001b[0m\n\u001b[0;32m    187\u001b[0m                     \u001b[0mkwargs\u001b[0m\u001b[1;33m[\u001b[0m\u001b[0mnew_arg_name\u001b[0m\u001b[1;33m]\u001b[0m \u001b[1;33m=\u001b[0m \u001b[0mnew_arg_value\u001b[0m\u001b[1;33m\u001b[0m\u001b[1;33m\u001b[0m\u001b[0m\n\u001b[1;32m--> 188\u001b[1;33m             \u001b[1;32mreturn\u001b[0m \u001b[0mfunc\u001b[0m\u001b[1;33m(\u001b[0m\u001b[1;33m*\u001b[0m\u001b[0margs\u001b[0m\u001b[1;33m,\u001b[0m \u001b[1;33m**\u001b[0m\u001b[0mkwargs\u001b[0m\u001b[1;33m)\u001b[0m\u001b[1;33m\u001b[0m\u001b[1;33m\u001b[0m\u001b[0m\n\u001b[0m\u001b[0;32m    189\u001b[0m         \u001b[1;32mreturn\u001b[0m \u001b[0mwrapper\u001b[0m\u001b[1;33m\u001b[0m\u001b[1;33m\u001b[0m\u001b[0m\n\u001b[0;32m    190\u001b[0m     \u001b[1;32mreturn\u001b[0m \u001b[0m_deprecate_kwarg\u001b[0m\u001b[1;33m\u001b[0m\u001b[1;33m\u001b[0m\u001b[0m\n",
      "\u001b[1;32mG:\\Anaconda\\Anaconda Installation\\lib\\site-packages\\pandas\\io\\excel.py\u001b[0m in \u001b[0;36mread_excel\u001b[1;34m(io, sheet_name, header, names, index_col, parse_cols, usecols, squeeze, dtype, engine, converters, true_values, false_values, skiprows, nrows, na_values, keep_default_na, verbose, parse_dates, date_parser, thousands, comment, skip_footer, skipfooter, convert_float, mangle_dupe_cols, **kwds)\u001b[0m\n\u001b[0;32m    348\u001b[0m \u001b[1;33m\u001b[0m\u001b[0m\n\u001b[0;32m    349\u001b[0m     \u001b[1;32mif\u001b[0m \u001b[1;32mnot\u001b[0m \u001b[0misinstance\u001b[0m\u001b[1;33m(\u001b[0m\u001b[0mio\u001b[0m\u001b[1;33m,\u001b[0m \u001b[0mExcelFile\u001b[0m\u001b[1;33m)\u001b[0m\u001b[1;33m:\u001b[0m\u001b[1;33m\u001b[0m\u001b[1;33m\u001b[0m\u001b[0m\n\u001b[1;32m--> 350\u001b[1;33m         \u001b[0mio\u001b[0m \u001b[1;33m=\u001b[0m \u001b[0mExcelFile\u001b[0m\u001b[1;33m(\u001b[0m\u001b[0mio\u001b[0m\u001b[1;33m,\u001b[0m \u001b[0mengine\u001b[0m\u001b[1;33m=\u001b[0m\u001b[0mengine\u001b[0m\u001b[1;33m)\u001b[0m\u001b[1;33m\u001b[0m\u001b[1;33m\u001b[0m\u001b[0m\n\u001b[0m\u001b[0;32m    351\u001b[0m \u001b[1;33m\u001b[0m\u001b[0m\n\u001b[0;32m    352\u001b[0m     return io.parse(\n",
      "\u001b[1;32mG:\\Anaconda\\Anaconda Installation\\lib\\site-packages\\pandas\\io\\excel.py\u001b[0m in \u001b[0;36m__init__\u001b[1;34m(self, io, engine)\u001b[0m\n\u001b[0;32m    651\u001b[0m         \u001b[0mself\u001b[0m\u001b[1;33m.\u001b[0m\u001b[0m_io\u001b[0m \u001b[1;33m=\u001b[0m \u001b[0m_stringify_path\u001b[0m\u001b[1;33m(\u001b[0m\u001b[0mio\u001b[0m\u001b[1;33m)\u001b[0m\u001b[1;33m\u001b[0m\u001b[1;33m\u001b[0m\u001b[0m\n\u001b[0;32m    652\u001b[0m \u001b[1;33m\u001b[0m\u001b[0m\n\u001b[1;32m--> 653\u001b[1;33m         \u001b[0mself\u001b[0m\u001b[1;33m.\u001b[0m\u001b[0m_reader\u001b[0m \u001b[1;33m=\u001b[0m \u001b[0mself\u001b[0m\u001b[1;33m.\u001b[0m\u001b[0m_engines\u001b[0m\u001b[1;33m[\u001b[0m\u001b[0mengine\u001b[0m\u001b[1;33m]\u001b[0m\u001b[1;33m(\u001b[0m\u001b[0mself\u001b[0m\u001b[1;33m.\u001b[0m\u001b[0m_io\u001b[0m\u001b[1;33m)\u001b[0m\u001b[1;33m\u001b[0m\u001b[1;33m\u001b[0m\u001b[0m\n\u001b[0m\u001b[0;32m    654\u001b[0m \u001b[1;33m\u001b[0m\u001b[0m\n\u001b[0;32m    655\u001b[0m     \u001b[1;32mdef\u001b[0m \u001b[0m__fspath__\u001b[0m\u001b[1;33m(\u001b[0m\u001b[0mself\u001b[0m\u001b[1;33m)\u001b[0m\u001b[1;33m:\u001b[0m\u001b[1;33m\u001b[0m\u001b[1;33m\u001b[0m\u001b[0m\n",
      "\u001b[1;32mG:\\Anaconda\\Anaconda Installation\\lib\\site-packages\\pandas\\io\\excel.py\u001b[0m in \u001b[0;36m__init__\u001b[1;34m(self, filepath_or_buffer)\u001b[0m\n\u001b[0;32m    422\u001b[0m             \u001b[0mself\u001b[0m\u001b[1;33m.\u001b[0m\u001b[0mbook\u001b[0m \u001b[1;33m=\u001b[0m \u001b[0mxlrd\u001b[0m\u001b[1;33m.\u001b[0m\u001b[0mopen_workbook\u001b[0m\u001b[1;33m(\u001b[0m\u001b[0mfile_contents\u001b[0m\u001b[1;33m=\u001b[0m\u001b[0mdata\u001b[0m\u001b[1;33m)\u001b[0m\u001b[1;33m\u001b[0m\u001b[1;33m\u001b[0m\u001b[0m\n\u001b[0;32m    423\u001b[0m         \u001b[1;32melif\u001b[0m \u001b[0misinstance\u001b[0m\u001b[1;33m(\u001b[0m\u001b[0mfilepath_or_buffer\u001b[0m\u001b[1;33m,\u001b[0m \u001b[0mcompat\u001b[0m\u001b[1;33m.\u001b[0m\u001b[0mstring_types\u001b[0m\u001b[1;33m)\u001b[0m\u001b[1;33m:\u001b[0m\u001b[1;33m\u001b[0m\u001b[1;33m\u001b[0m\u001b[0m\n\u001b[1;32m--> 424\u001b[1;33m             \u001b[0mself\u001b[0m\u001b[1;33m.\u001b[0m\u001b[0mbook\u001b[0m \u001b[1;33m=\u001b[0m \u001b[0mxlrd\u001b[0m\u001b[1;33m.\u001b[0m\u001b[0mopen_workbook\u001b[0m\u001b[1;33m(\u001b[0m\u001b[0mfilepath_or_buffer\u001b[0m\u001b[1;33m)\u001b[0m\u001b[1;33m\u001b[0m\u001b[1;33m\u001b[0m\u001b[0m\n\u001b[0m\u001b[0;32m    425\u001b[0m         \u001b[1;32melse\u001b[0m\u001b[1;33m:\u001b[0m\u001b[1;33m\u001b[0m\u001b[1;33m\u001b[0m\u001b[0m\n\u001b[0;32m    426\u001b[0m             raise ValueError('Must explicitly set engine if not passing in'\n",
      "\u001b[1;32mG:\\Anaconda\\Anaconda Installation\\lib\\site-packages\\xlrd\\__init__.py\u001b[0m in \u001b[0;36mopen_workbook\u001b[1;34m(filename, logfile, verbosity, use_mmap, file_contents, encoding_override, formatting_info, on_demand, ragged_rows)\u001b[0m\n\u001b[0;32m    109\u001b[0m     \u001b[1;32melse\u001b[0m\u001b[1;33m:\u001b[0m\u001b[1;33m\u001b[0m\u001b[1;33m\u001b[0m\u001b[0m\n\u001b[0;32m    110\u001b[0m         \u001b[0mfilename\u001b[0m \u001b[1;33m=\u001b[0m \u001b[0mos\u001b[0m\u001b[1;33m.\u001b[0m\u001b[0mpath\u001b[0m\u001b[1;33m.\u001b[0m\u001b[0mexpanduser\u001b[0m\u001b[1;33m(\u001b[0m\u001b[0mfilename\u001b[0m\u001b[1;33m)\u001b[0m\u001b[1;33m\u001b[0m\u001b[1;33m\u001b[0m\u001b[0m\n\u001b[1;32m--> 111\u001b[1;33m         \u001b[1;32mwith\u001b[0m \u001b[0mopen\u001b[0m\u001b[1;33m(\u001b[0m\u001b[0mfilename\u001b[0m\u001b[1;33m,\u001b[0m \u001b[1;34m\"rb\"\u001b[0m\u001b[1;33m)\u001b[0m \u001b[1;32mas\u001b[0m \u001b[0mf\u001b[0m\u001b[1;33m:\u001b[0m\u001b[1;33m\u001b[0m\u001b[1;33m\u001b[0m\u001b[0m\n\u001b[0m\u001b[0;32m    112\u001b[0m             \u001b[0mpeek\u001b[0m \u001b[1;33m=\u001b[0m \u001b[0mf\u001b[0m\u001b[1;33m.\u001b[0m\u001b[0mread\u001b[0m\u001b[1;33m(\u001b[0m\u001b[0mpeeksz\u001b[0m\u001b[1;33m)\u001b[0m\u001b[1;33m\u001b[0m\u001b[1;33m\u001b[0m\u001b[0m\n\u001b[0;32m    113\u001b[0m     \u001b[1;32mif\u001b[0m \u001b[0mpeek\u001b[0m \u001b[1;33m==\u001b[0m \u001b[1;34mb\"PK\\x03\\x04\"\u001b[0m\u001b[1;33m:\u001b[0m \u001b[1;31m# a ZIP file\u001b[0m\u001b[1;33m\u001b[0m\u001b[1;33m\u001b[0m\u001b[0m\n",
      "\u001b[1;31mFileNotFoundError\u001b[0m: [Errno 2] No such file or directory: 'F:\\\\DA\\\\Takshil\\\\DRC_Raw_Data 2011-12 - Copy.xlsx'"
     ]
    }
   ],
   "source": [
    "import pandas as pd \n",
    "import matplotlib.pyplot as plt\n",
    "df = pd.read_excel('F:\\DA\\Takshil\\DRC_Raw_Data 2011-12 - Copy.xlsx')\n",
    "df.plot()\n",
    "plt.legend()\n",
    "plt.show()\n",
    "%matplotlib inline \n",
    "plt.plot(df)"
   ]
  },
  {
   "cell_type": "code",
   "execution_count": 3,
   "metadata": {},
   "outputs": [
    {
     "ename": "TypeError",
     "evalue": "Empty 'DataFrame': no numeric data to plot",
     "output_type": "error",
     "traceback": [
      "\u001b[1;31m---------------------------------------------------------------------------\u001b[0m",
      "\u001b[1;31mTypeError\u001b[0m                                 Traceback (most recent call last)",
      "\u001b[1;32m<ipython-input-3-d4ff9536d675>\u001b[0m in \u001b[0;36m<module>\u001b[1;34m\u001b[0m\n\u001b[0;32m      2\u001b[0m \u001b[1;32mimport\u001b[0m \u001b[0mmatplotlib\u001b[0m\u001b[1;33m.\u001b[0m\u001b[0mpyplot\u001b[0m \u001b[1;32mas\u001b[0m \u001b[0mplt\u001b[0m\u001b[1;33m\u001b[0m\u001b[1;33m\u001b[0m\u001b[0m\n\u001b[0;32m      3\u001b[0m \u001b[0mdf\u001b[0m \u001b[1;33m=\u001b[0m \u001b[0mpd\u001b[0m\u001b[1;33m.\u001b[0m\u001b[0mread_excel\u001b[0m\u001b[1;33m(\u001b[0m\u001b[1;34m'F:\\Data Analytics\\Harsh\\DRC_Raw_Data 2012-13.xlsx'\u001b[0m\u001b[1;33m)\u001b[0m\u001b[1;33m\u001b[0m\u001b[1;33m\u001b[0m\u001b[0m\n\u001b[1;32m----> 4\u001b[1;33m \u001b[0mdf\u001b[0m\u001b[1;33m.\u001b[0m\u001b[0mplot\u001b[0m\u001b[1;33m(\u001b[0m\u001b[1;33m)\u001b[0m\u001b[1;33m\u001b[0m\u001b[1;33m\u001b[0m\u001b[0m\n\u001b[0m\u001b[0;32m      5\u001b[0m \u001b[0mplt\u001b[0m\u001b[1;33m.\u001b[0m\u001b[0mlegend\u001b[0m\u001b[1;33m(\u001b[0m\u001b[1;33m)\u001b[0m\u001b[1;33m\u001b[0m\u001b[1;33m\u001b[0m\u001b[0m\n\u001b[0;32m      6\u001b[0m \u001b[0mplt\u001b[0m\u001b[1;33m.\u001b[0m\u001b[0mshow\u001b[0m\u001b[1;33m(\u001b[0m\u001b[1;33m)\u001b[0m\u001b[1;33m\u001b[0m\u001b[1;33m\u001b[0m\u001b[0m\n",
      "\u001b[1;32mG:\\Anaconda\\Anaconda Installation\\lib\\site-packages\\pandas\\plotting\\_core.py\u001b[0m in \u001b[0;36m__call__\u001b[1;34m(self, x, y, kind, ax, subplots, sharex, sharey, layout, figsize, use_index, title, grid, legend, style, logx, logy, loglog, xticks, yticks, xlim, ylim, rot, fontsize, colormap, table, yerr, xerr, secondary_y, sort_columns, **kwds)\u001b[0m\n\u001b[0;32m   2940\u001b[0m                           \u001b[0mfontsize\u001b[0m\u001b[1;33m=\u001b[0m\u001b[0mfontsize\u001b[0m\u001b[1;33m,\u001b[0m \u001b[0mcolormap\u001b[0m\u001b[1;33m=\u001b[0m\u001b[0mcolormap\u001b[0m\u001b[1;33m,\u001b[0m \u001b[0mtable\u001b[0m\u001b[1;33m=\u001b[0m\u001b[0mtable\u001b[0m\u001b[1;33m,\u001b[0m\u001b[1;33m\u001b[0m\u001b[1;33m\u001b[0m\u001b[0m\n\u001b[0;32m   2941\u001b[0m                           \u001b[0myerr\u001b[0m\u001b[1;33m=\u001b[0m\u001b[0myerr\u001b[0m\u001b[1;33m,\u001b[0m \u001b[0mxerr\u001b[0m\u001b[1;33m=\u001b[0m\u001b[0mxerr\u001b[0m\u001b[1;33m,\u001b[0m \u001b[0msecondary_y\u001b[0m\u001b[1;33m=\u001b[0m\u001b[0msecondary_y\u001b[0m\u001b[1;33m,\u001b[0m\u001b[1;33m\u001b[0m\u001b[1;33m\u001b[0m\u001b[0m\n\u001b[1;32m-> 2942\u001b[1;33m                           sort_columns=sort_columns, **kwds)\n\u001b[0m\u001b[0;32m   2943\u001b[0m     \u001b[0m__call__\u001b[0m\u001b[1;33m.\u001b[0m\u001b[0m__doc__\u001b[0m \u001b[1;33m=\u001b[0m \u001b[0mplot_frame\u001b[0m\u001b[1;33m.\u001b[0m\u001b[0m__doc__\u001b[0m\u001b[1;33m\u001b[0m\u001b[1;33m\u001b[0m\u001b[0m\n\u001b[0;32m   2944\u001b[0m \u001b[1;33m\u001b[0m\u001b[0m\n",
      "\u001b[1;32mG:\\Anaconda\\Anaconda Installation\\lib\\site-packages\\pandas\\plotting\\_core.py\u001b[0m in \u001b[0;36mplot_frame\u001b[1;34m(data, x, y, kind, ax, subplots, sharex, sharey, layout, figsize, use_index, title, grid, legend, style, logx, logy, loglog, xticks, yticks, xlim, ylim, rot, fontsize, colormap, table, yerr, xerr, secondary_y, sort_columns, **kwds)\u001b[0m\n\u001b[0;32m   1971\u001b[0m                  \u001b[0myerr\u001b[0m\u001b[1;33m=\u001b[0m\u001b[0myerr\u001b[0m\u001b[1;33m,\u001b[0m \u001b[0mxerr\u001b[0m\u001b[1;33m=\u001b[0m\u001b[0mxerr\u001b[0m\u001b[1;33m,\u001b[0m\u001b[1;33m\u001b[0m\u001b[1;33m\u001b[0m\u001b[0m\n\u001b[0;32m   1972\u001b[0m                  \u001b[0msecondary_y\u001b[0m\u001b[1;33m=\u001b[0m\u001b[0msecondary_y\u001b[0m\u001b[1;33m,\u001b[0m \u001b[0msort_columns\u001b[0m\u001b[1;33m=\u001b[0m\u001b[0msort_columns\u001b[0m\u001b[1;33m,\u001b[0m\u001b[1;33m\u001b[0m\u001b[1;33m\u001b[0m\u001b[0m\n\u001b[1;32m-> 1973\u001b[1;33m                  **kwds)\n\u001b[0m\u001b[0;32m   1974\u001b[0m \u001b[1;33m\u001b[0m\u001b[0m\n\u001b[0;32m   1975\u001b[0m \u001b[1;33m\u001b[0m\u001b[0m\n",
      "\u001b[1;32mG:\\Anaconda\\Anaconda Installation\\lib\\site-packages\\pandas\\plotting\\_core.py\u001b[0m in \u001b[0;36m_plot\u001b[1;34m(data, x, y, subplots, ax, kind, **kwds)\u001b[0m\n\u001b[0;32m   1799\u001b[0m         \u001b[0mplot_obj\u001b[0m \u001b[1;33m=\u001b[0m \u001b[0mklass\u001b[0m\u001b[1;33m(\u001b[0m\u001b[0mdata\u001b[0m\u001b[1;33m,\u001b[0m \u001b[0msubplots\u001b[0m\u001b[1;33m=\u001b[0m\u001b[0msubplots\u001b[0m\u001b[1;33m,\u001b[0m \u001b[0max\u001b[0m\u001b[1;33m=\u001b[0m\u001b[0max\u001b[0m\u001b[1;33m,\u001b[0m \u001b[0mkind\u001b[0m\u001b[1;33m=\u001b[0m\u001b[0mkind\u001b[0m\u001b[1;33m,\u001b[0m \u001b[1;33m**\u001b[0m\u001b[0mkwds\u001b[0m\u001b[1;33m)\u001b[0m\u001b[1;33m\u001b[0m\u001b[1;33m\u001b[0m\u001b[0m\n\u001b[0;32m   1800\u001b[0m \u001b[1;33m\u001b[0m\u001b[0m\n\u001b[1;32m-> 1801\u001b[1;33m     \u001b[0mplot_obj\u001b[0m\u001b[1;33m.\u001b[0m\u001b[0mgenerate\u001b[0m\u001b[1;33m(\u001b[0m\u001b[1;33m)\u001b[0m\u001b[1;33m\u001b[0m\u001b[1;33m\u001b[0m\u001b[0m\n\u001b[0m\u001b[0;32m   1802\u001b[0m     \u001b[0mplot_obj\u001b[0m\u001b[1;33m.\u001b[0m\u001b[0mdraw\u001b[0m\u001b[1;33m(\u001b[0m\u001b[1;33m)\u001b[0m\u001b[1;33m\u001b[0m\u001b[1;33m\u001b[0m\u001b[0m\n\u001b[0;32m   1803\u001b[0m     \u001b[1;32mreturn\u001b[0m \u001b[0mplot_obj\u001b[0m\u001b[1;33m.\u001b[0m\u001b[0mresult\u001b[0m\u001b[1;33m\u001b[0m\u001b[1;33m\u001b[0m\u001b[0m\n",
      "\u001b[1;32mG:\\Anaconda\\Anaconda Installation\\lib\\site-packages\\pandas\\plotting\\_core.py\u001b[0m in \u001b[0;36mgenerate\u001b[1;34m(self)\u001b[0m\n\u001b[0;32m    247\u001b[0m     \u001b[1;32mdef\u001b[0m \u001b[0mgenerate\u001b[0m\u001b[1;33m(\u001b[0m\u001b[0mself\u001b[0m\u001b[1;33m)\u001b[0m\u001b[1;33m:\u001b[0m\u001b[1;33m\u001b[0m\u001b[1;33m\u001b[0m\u001b[0m\n\u001b[0;32m    248\u001b[0m         \u001b[0mself\u001b[0m\u001b[1;33m.\u001b[0m\u001b[0m_args_adjust\u001b[0m\u001b[1;33m(\u001b[0m\u001b[1;33m)\u001b[0m\u001b[1;33m\u001b[0m\u001b[1;33m\u001b[0m\u001b[0m\n\u001b[1;32m--> 249\u001b[1;33m         \u001b[0mself\u001b[0m\u001b[1;33m.\u001b[0m\u001b[0m_compute_plot_data\u001b[0m\u001b[1;33m(\u001b[0m\u001b[1;33m)\u001b[0m\u001b[1;33m\u001b[0m\u001b[1;33m\u001b[0m\u001b[0m\n\u001b[0m\u001b[0;32m    250\u001b[0m         \u001b[0mself\u001b[0m\u001b[1;33m.\u001b[0m\u001b[0m_setup_subplots\u001b[0m\u001b[1;33m(\u001b[0m\u001b[1;33m)\u001b[0m\u001b[1;33m\u001b[0m\u001b[1;33m\u001b[0m\u001b[0m\n\u001b[0;32m    251\u001b[0m         \u001b[0mself\u001b[0m\u001b[1;33m.\u001b[0m\u001b[0m_make_plot\u001b[0m\u001b[1;33m(\u001b[0m\u001b[1;33m)\u001b[0m\u001b[1;33m\u001b[0m\u001b[1;33m\u001b[0m\u001b[0m\n",
      "\u001b[1;32mG:\\Anaconda\\Anaconda Installation\\lib\\site-packages\\pandas\\plotting\\_core.py\u001b[0m in \u001b[0;36m_compute_plot_data\u001b[1;34m(self)\u001b[0m\n\u001b[0;32m    365\u001b[0m         \u001b[1;32mif\u001b[0m \u001b[0mis_empty\u001b[0m\u001b[1;33m:\u001b[0m\u001b[1;33m\u001b[0m\u001b[1;33m\u001b[0m\u001b[0m\n\u001b[0;32m    366\u001b[0m             raise TypeError('Empty {0!r}: no numeric data to '\n\u001b[1;32m--> 367\u001b[1;33m                             'plot'.format(numeric_data.__class__.__name__))\n\u001b[0m\u001b[0;32m    368\u001b[0m \u001b[1;33m\u001b[0m\u001b[0m\n\u001b[0;32m    369\u001b[0m         \u001b[0mself\u001b[0m\u001b[1;33m.\u001b[0m\u001b[0mdata\u001b[0m \u001b[1;33m=\u001b[0m \u001b[0mnumeric_data\u001b[0m\u001b[1;33m\u001b[0m\u001b[1;33m\u001b[0m\u001b[0m\n",
      "\u001b[1;31mTypeError\u001b[0m: Empty 'DataFrame': no numeric data to plot"
     ]
    }
   ],
   "source": [
    "import pandas as pd\n",
    "import matplotlib.pyplot as plt\n",
    "df = pd.read_excel('F:\\Data Analytics\\Harsh\\DRC_Raw_Data 2012-13.xlsx')\n",
    "plt.plot(df['Close'])"
   ]
  },
  {
   "cell_type": "code",
   "execution_count": 6,
   "metadata": {},
   "outputs": [
    {
     "ename": "FileNotFoundError",
     "evalue": "[Errno 2] No such file or directory: 'F:\\\\DA\\\\Harsh\\\\DRC_Raw_Data 2011-12 - Copy.xlsx'",
     "output_type": "error",
     "traceback": [
      "\u001b[1;31m---------------------------------------------------------------------------\u001b[0m",
      "\u001b[1;31mFileNotFoundError\u001b[0m                         Traceback (most recent call last)",
      "\u001b[1;32m<ipython-input-6-4f39e7b32d05>\u001b[0m in \u001b[0;36m<module>\u001b[1;34m\u001b[0m\n\u001b[0;32m      1\u001b[0m \u001b[1;32mimport\u001b[0m \u001b[0mpandas\u001b[0m \u001b[1;32mas\u001b[0m \u001b[0mpd\u001b[0m\u001b[1;33m\u001b[0m\u001b[1;33m\u001b[0m\u001b[0m\n\u001b[0;32m      2\u001b[0m \u001b[1;32mimport\u001b[0m \u001b[0mmatplotlib\u001b[0m\u001b[1;33m.\u001b[0m\u001b[0mpyplot\u001b[0m \u001b[1;32mas\u001b[0m \u001b[0mplt\u001b[0m\u001b[1;33m\u001b[0m\u001b[1;33m\u001b[0m\u001b[0m\n\u001b[1;32m----> 3\u001b[1;33m \u001b[0mdf\u001b[0m \u001b[1;33m=\u001b[0m \u001b[0mpd\u001b[0m\u001b[1;33m.\u001b[0m\u001b[0mread_excel\u001b[0m\u001b[1;33m(\u001b[0m\u001b[1;34m'F:\\DA\\Harsh\\DRC_Raw_Data 2011-12 - Copy.xlsx'\u001b[0m\u001b[1;33m)\u001b[0m\u001b[1;33m\u001b[0m\u001b[1;33m\u001b[0m\u001b[0m\n\u001b[0m\u001b[0;32m      4\u001b[0m \u001b[0mdf\u001b[0m\u001b[1;33m.\u001b[0m\u001b[0mplot\u001b[0m\u001b[1;33m(\u001b[0m\u001b[1;33m)\u001b[0m\u001b[1;33m\u001b[0m\u001b[1;33m\u001b[0m\u001b[0m\n\u001b[0;32m      5\u001b[0m \u001b[0mplt\u001b[0m\u001b[1;33m.\u001b[0m\u001b[0mlegend\u001b[0m\u001b[1;33m(\u001b[0m\u001b[1;33m)\u001b[0m\u001b[1;33m\u001b[0m\u001b[1;33m\u001b[0m\u001b[0m\n",
      "\u001b[1;32mG:\\Anaconda\\Anaconda Installation\\lib\\site-packages\\pandas\\util\\_decorators.py\u001b[0m in \u001b[0;36mwrapper\u001b[1;34m(*args, **kwargs)\u001b[0m\n\u001b[0;32m    186\u001b[0m                 \u001b[1;32melse\u001b[0m\u001b[1;33m:\u001b[0m\u001b[1;33m\u001b[0m\u001b[1;33m\u001b[0m\u001b[0m\n\u001b[0;32m    187\u001b[0m                     \u001b[0mkwargs\u001b[0m\u001b[1;33m[\u001b[0m\u001b[0mnew_arg_name\u001b[0m\u001b[1;33m]\u001b[0m \u001b[1;33m=\u001b[0m \u001b[0mnew_arg_value\u001b[0m\u001b[1;33m\u001b[0m\u001b[1;33m\u001b[0m\u001b[0m\n\u001b[1;32m--> 188\u001b[1;33m             \u001b[1;32mreturn\u001b[0m \u001b[0mfunc\u001b[0m\u001b[1;33m(\u001b[0m\u001b[1;33m*\u001b[0m\u001b[0margs\u001b[0m\u001b[1;33m,\u001b[0m \u001b[1;33m**\u001b[0m\u001b[0mkwargs\u001b[0m\u001b[1;33m)\u001b[0m\u001b[1;33m\u001b[0m\u001b[1;33m\u001b[0m\u001b[0m\n\u001b[0m\u001b[0;32m    189\u001b[0m         \u001b[1;32mreturn\u001b[0m \u001b[0mwrapper\u001b[0m\u001b[1;33m\u001b[0m\u001b[1;33m\u001b[0m\u001b[0m\n\u001b[0;32m    190\u001b[0m     \u001b[1;32mreturn\u001b[0m \u001b[0m_deprecate_kwarg\u001b[0m\u001b[1;33m\u001b[0m\u001b[1;33m\u001b[0m\u001b[0m\n",
      "\u001b[1;32mG:\\Anaconda\\Anaconda Installation\\lib\\site-packages\\pandas\\util\\_decorators.py\u001b[0m in \u001b[0;36mwrapper\u001b[1;34m(*args, **kwargs)\u001b[0m\n\u001b[0;32m    186\u001b[0m                 \u001b[1;32melse\u001b[0m\u001b[1;33m:\u001b[0m\u001b[1;33m\u001b[0m\u001b[1;33m\u001b[0m\u001b[0m\n\u001b[0;32m    187\u001b[0m                     \u001b[0mkwargs\u001b[0m\u001b[1;33m[\u001b[0m\u001b[0mnew_arg_name\u001b[0m\u001b[1;33m]\u001b[0m \u001b[1;33m=\u001b[0m \u001b[0mnew_arg_value\u001b[0m\u001b[1;33m\u001b[0m\u001b[1;33m\u001b[0m\u001b[0m\n\u001b[1;32m--> 188\u001b[1;33m             \u001b[1;32mreturn\u001b[0m \u001b[0mfunc\u001b[0m\u001b[1;33m(\u001b[0m\u001b[1;33m*\u001b[0m\u001b[0margs\u001b[0m\u001b[1;33m,\u001b[0m \u001b[1;33m**\u001b[0m\u001b[0mkwargs\u001b[0m\u001b[1;33m)\u001b[0m\u001b[1;33m\u001b[0m\u001b[1;33m\u001b[0m\u001b[0m\n\u001b[0m\u001b[0;32m    189\u001b[0m         \u001b[1;32mreturn\u001b[0m \u001b[0mwrapper\u001b[0m\u001b[1;33m\u001b[0m\u001b[1;33m\u001b[0m\u001b[0m\n\u001b[0;32m    190\u001b[0m     \u001b[1;32mreturn\u001b[0m \u001b[0m_deprecate_kwarg\u001b[0m\u001b[1;33m\u001b[0m\u001b[1;33m\u001b[0m\u001b[0m\n",
      "\u001b[1;32mG:\\Anaconda\\Anaconda Installation\\lib\\site-packages\\pandas\\io\\excel.py\u001b[0m in \u001b[0;36mread_excel\u001b[1;34m(io, sheet_name, header, names, index_col, parse_cols, usecols, squeeze, dtype, engine, converters, true_values, false_values, skiprows, nrows, na_values, keep_default_na, verbose, parse_dates, date_parser, thousands, comment, skip_footer, skipfooter, convert_float, mangle_dupe_cols, **kwds)\u001b[0m\n\u001b[0;32m    348\u001b[0m \u001b[1;33m\u001b[0m\u001b[0m\n\u001b[0;32m    349\u001b[0m     \u001b[1;32mif\u001b[0m \u001b[1;32mnot\u001b[0m \u001b[0misinstance\u001b[0m\u001b[1;33m(\u001b[0m\u001b[0mio\u001b[0m\u001b[1;33m,\u001b[0m \u001b[0mExcelFile\u001b[0m\u001b[1;33m)\u001b[0m\u001b[1;33m:\u001b[0m\u001b[1;33m\u001b[0m\u001b[1;33m\u001b[0m\u001b[0m\n\u001b[1;32m--> 350\u001b[1;33m         \u001b[0mio\u001b[0m \u001b[1;33m=\u001b[0m \u001b[0mExcelFile\u001b[0m\u001b[1;33m(\u001b[0m\u001b[0mio\u001b[0m\u001b[1;33m,\u001b[0m \u001b[0mengine\u001b[0m\u001b[1;33m=\u001b[0m\u001b[0mengine\u001b[0m\u001b[1;33m)\u001b[0m\u001b[1;33m\u001b[0m\u001b[1;33m\u001b[0m\u001b[0m\n\u001b[0m\u001b[0;32m    351\u001b[0m \u001b[1;33m\u001b[0m\u001b[0m\n\u001b[0;32m    352\u001b[0m     return io.parse(\n",
      "\u001b[1;32mG:\\Anaconda\\Anaconda Installation\\lib\\site-packages\\pandas\\io\\excel.py\u001b[0m in \u001b[0;36m__init__\u001b[1;34m(self, io, engine)\u001b[0m\n\u001b[0;32m    651\u001b[0m         \u001b[0mself\u001b[0m\u001b[1;33m.\u001b[0m\u001b[0m_io\u001b[0m \u001b[1;33m=\u001b[0m \u001b[0m_stringify_path\u001b[0m\u001b[1;33m(\u001b[0m\u001b[0mio\u001b[0m\u001b[1;33m)\u001b[0m\u001b[1;33m\u001b[0m\u001b[1;33m\u001b[0m\u001b[0m\n\u001b[0;32m    652\u001b[0m \u001b[1;33m\u001b[0m\u001b[0m\n\u001b[1;32m--> 653\u001b[1;33m         \u001b[0mself\u001b[0m\u001b[1;33m.\u001b[0m\u001b[0m_reader\u001b[0m \u001b[1;33m=\u001b[0m \u001b[0mself\u001b[0m\u001b[1;33m.\u001b[0m\u001b[0m_engines\u001b[0m\u001b[1;33m[\u001b[0m\u001b[0mengine\u001b[0m\u001b[1;33m]\u001b[0m\u001b[1;33m(\u001b[0m\u001b[0mself\u001b[0m\u001b[1;33m.\u001b[0m\u001b[0m_io\u001b[0m\u001b[1;33m)\u001b[0m\u001b[1;33m\u001b[0m\u001b[1;33m\u001b[0m\u001b[0m\n\u001b[0m\u001b[0;32m    654\u001b[0m \u001b[1;33m\u001b[0m\u001b[0m\n\u001b[0;32m    655\u001b[0m     \u001b[1;32mdef\u001b[0m \u001b[0m__fspath__\u001b[0m\u001b[1;33m(\u001b[0m\u001b[0mself\u001b[0m\u001b[1;33m)\u001b[0m\u001b[1;33m:\u001b[0m\u001b[1;33m\u001b[0m\u001b[1;33m\u001b[0m\u001b[0m\n",
      "\u001b[1;32mG:\\Anaconda\\Anaconda Installation\\lib\\site-packages\\pandas\\io\\excel.py\u001b[0m in \u001b[0;36m__init__\u001b[1;34m(self, filepath_or_buffer)\u001b[0m\n\u001b[0;32m    422\u001b[0m             \u001b[0mself\u001b[0m\u001b[1;33m.\u001b[0m\u001b[0mbook\u001b[0m \u001b[1;33m=\u001b[0m \u001b[0mxlrd\u001b[0m\u001b[1;33m.\u001b[0m\u001b[0mopen_workbook\u001b[0m\u001b[1;33m(\u001b[0m\u001b[0mfile_contents\u001b[0m\u001b[1;33m=\u001b[0m\u001b[0mdata\u001b[0m\u001b[1;33m)\u001b[0m\u001b[1;33m\u001b[0m\u001b[1;33m\u001b[0m\u001b[0m\n\u001b[0;32m    423\u001b[0m         \u001b[1;32melif\u001b[0m \u001b[0misinstance\u001b[0m\u001b[1;33m(\u001b[0m\u001b[0mfilepath_or_buffer\u001b[0m\u001b[1;33m,\u001b[0m \u001b[0mcompat\u001b[0m\u001b[1;33m.\u001b[0m\u001b[0mstring_types\u001b[0m\u001b[1;33m)\u001b[0m\u001b[1;33m:\u001b[0m\u001b[1;33m\u001b[0m\u001b[1;33m\u001b[0m\u001b[0m\n\u001b[1;32m--> 424\u001b[1;33m             \u001b[0mself\u001b[0m\u001b[1;33m.\u001b[0m\u001b[0mbook\u001b[0m \u001b[1;33m=\u001b[0m \u001b[0mxlrd\u001b[0m\u001b[1;33m.\u001b[0m\u001b[0mopen_workbook\u001b[0m\u001b[1;33m(\u001b[0m\u001b[0mfilepath_or_buffer\u001b[0m\u001b[1;33m)\u001b[0m\u001b[1;33m\u001b[0m\u001b[1;33m\u001b[0m\u001b[0m\n\u001b[0m\u001b[0;32m    425\u001b[0m         \u001b[1;32melse\u001b[0m\u001b[1;33m:\u001b[0m\u001b[1;33m\u001b[0m\u001b[1;33m\u001b[0m\u001b[0m\n\u001b[0;32m    426\u001b[0m             raise ValueError('Must explicitly set engine if not passing in'\n",
      "\u001b[1;32mG:\\Anaconda\\Anaconda Installation\\lib\\site-packages\\xlrd\\__init__.py\u001b[0m in \u001b[0;36mopen_workbook\u001b[1;34m(filename, logfile, verbosity, use_mmap, file_contents, encoding_override, formatting_info, on_demand, ragged_rows)\u001b[0m\n\u001b[0;32m    109\u001b[0m     \u001b[1;32melse\u001b[0m\u001b[1;33m:\u001b[0m\u001b[1;33m\u001b[0m\u001b[1;33m\u001b[0m\u001b[0m\n\u001b[0;32m    110\u001b[0m         \u001b[0mfilename\u001b[0m \u001b[1;33m=\u001b[0m \u001b[0mos\u001b[0m\u001b[1;33m.\u001b[0m\u001b[0mpath\u001b[0m\u001b[1;33m.\u001b[0m\u001b[0mexpanduser\u001b[0m\u001b[1;33m(\u001b[0m\u001b[0mfilename\u001b[0m\u001b[1;33m)\u001b[0m\u001b[1;33m\u001b[0m\u001b[1;33m\u001b[0m\u001b[0m\n\u001b[1;32m--> 111\u001b[1;33m         \u001b[1;32mwith\u001b[0m \u001b[0mopen\u001b[0m\u001b[1;33m(\u001b[0m\u001b[0mfilename\u001b[0m\u001b[1;33m,\u001b[0m \u001b[1;34m\"rb\"\u001b[0m\u001b[1;33m)\u001b[0m \u001b[1;32mas\u001b[0m \u001b[0mf\u001b[0m\u001b[1;33m:\u001b[0m\u001b[1;33m\u001b[0m\u001b[1;33m\u001b[0m\u001b[0m\n\u001b[0m\u001b[0;32m    112\u001b[0m             \u001b[0mpeek\u001b[0m \u001b[1;33m=\u001b[0m \u001b[0mf\u001b[0m\u001b[1;33m.\u001b[0m\u001b[0mread\u001b[0m\u001b[1;33m(\u001b[0m\u001b[0mpeeksz\u001b[0m\u001b[1;33m)\u001b[0m\u001b[1;33m\u001b[0m\u001b[1;33m\u001b[0m\u001b[0m\n\u001b[0;32m    113\u001b[0m     \u001b[1;32mif\u001b[0m \u001b[0mpeek\u001b[0m \u001b[1;33m==\u001b[0m \u001b[1;34mb\"PK\\x03\\x04\"\u001b[0m\u001b[1;33m:\u001b[0m \u001b[1;31m# a ZIP file\u001b[0m\u001b[1;33m\u001b[0m\u001b[1;33m\u001b[0m\u001b[0m\n",
      "\u001b[1;31mFileNotFoundError\u001b[0m: [Errno 2] No such file or directory: 'F:\\\\DA\\\\Harsh\\\\DRC_Raw_Data 2011-12 - Copy.xlsx'"
     ]
    }
   ],
   "source": [
    "import pandas as pd \n",
    "import matplotlib.pyplot as plt\n",
    "df = pd.read_excel('F:\\DA\\Harsh\\DRC_Raw_Data 2011-12 - Copy.xlsx')\n",
    "df.plot()\n",
    "plt.legend()\n",
    "plt.show()\n",
    "%matplotlib inline \n",
    "plt.plot(df)"
   ]
  },
  {
   "cell_type": "code",
   "execution_count": null,
   "metadata": {},
   "outputs": [],
   "source": [
    "import pandas as pd"
   ]
  },
  {
   "cell_type": "code",
   "execution_count": null,
   "metadata": {},
   "outputs": [],
   "source": [
    "from matplotlib import pyplot as plt"
   ]
  }
 ],
 "metadata": {
  "kernelspec": {
   "display_name": "Python 3",
   "language": "python",
   "name": "python3"
  },
  "language_info": {
   "codemirror_mode": {
    "name": "ipython",
    "version": 3
   },
   "file_extension": ".py",
   "mimetype": "text/x-python",
   "name": "python",
   "nbconvert_exporter": "python",
   "pygments_lexer": "ipython3",
   "version": "3.7.3"
  }
 },
 "nbformat": 4,
 "nbformat_minor": 2
}
